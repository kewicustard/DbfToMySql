{
 "cells": [
  {
   "cell_type": "markdown",
   "metadata": {},
   "source": [
    "# DBF file to MySQL for Year File"
   ]
  },
  {
   "cell_type": "markdown",
   "metadata": {},
   "source": [
    "## 1. Load DBF to Pandas DataFrame"
   ]
  },
  {
   "cell_type": "code",
   "execution_count": 1,
   "metadata": {},
   "outputs": [
    {
     "name": "stdout",
     "output_type": "stream",
     "text": [
      "pandas version: 1.0.1\n"
     ]
    }
   ],
   "source": [
    "from datetime import datetime\n",
    "import pandas as pd\n",
    "import numpy as np\n",
    "print(f'pandas version: {pd.__version__}')\n",
    "\n",
    "pd.set_option('max_columns', 500)\n",
    "# pd.set_option('max_rows', 10)"
   ]
  },
  {
   "cell_type": "code",
   "execution_count": 2,
   "metadata": {},
   "outputs": [],
   "source": [
    "\"\"\"\n",
    "Load content of a DBF file into a Pandas data frame.\n",
    "\n",
    "The iter() is required because Pandas doesn't detect that the DBF\n",
    "object is iterable.\n",
    "\"\"\"\n",
    "\n",
    "from dbfread import DBF"
   ]
  },
  {
   "cell_type": "code",
   "execution_count": 3,
   "metadata": {
    "scrolled": true
   },
   "outputs": [
    {
     "name": "stdout",
     "output_type": "stream",
     "text": [
      "Please enter path for year file (default as G:/database/): \n",
      "Please insert year (default as this year) : \n",
      "Path : G:/database/\n",
      "Year : 2020\n",
      "\n",
      "Full path : G:/database/year2020.dbf\n"
     ]
    }
   ],
   "source": [
    "setPath = input('Please enter path for year file (default as G:/database/): ') or 'G:/database/'\n",
    "yearSelected = input('Please insert year (default as this year) : ') or str(datetime.now().year)\n",
    "print(f'Path : {setPath}')\n",
    "print(f'Year : {yearSelected}')\n",
    "fullPath = setPath + 'year'+ yearSelected +'.dbf'\n",
    "print(f'\\nFull path : {fullPath}')"
   ]
  },
  {
   "cell_type": "code",
   "execution_count": 4,
   "metadata": {},
   "outputs": [],
   "source": [
    "dbf = DBF(fullPath)\n",
    "df = pd.DataFrame(iter(dbf))"
   ]
  },
  {
   "cell_type": "code",
   "execution_count": 5,
   "metadata": {
    "scrolled": false
   },
   "outputs": [
    {
     "data": {
      "text/html": [
       "<div>\n",
       "<style scoped>\n",
       "    .dataframe tbody tr th:only-of-type {\n",
       "        vertical-align: middle;\n",
       "    }\n",
       "\n",
       "    .dataframe tbody tr th {\n",
       "        vertical-align: top;\n",
       "    }\n",
       "\n",
       "    .dataframe thead th {\n",
       "        text-align: right;\n",
       "    }\n",
       "</style>\n",
       "<table border=\"1\" class=\"dataframe\">\n",
       "  <thead>\n",
       "    <tr style=\"text-align: right;\">\n",
       "      <th></th>\n",
       "      <th>ID</th>\n",
       "      <th>DATE</th>\n",
       "      <th>DAY</th>\n",
       "      <th>MONTH</th>\n",
       "      <th>NEW_MONTH</th>\n",
       "      <th>NEW_MONTH2</th>\n",
       "      <th>YEAR</th>\n",
       "      <th>DOW</th>\n",
       "      <th>TYPE_DAY</th>\n",
       "      <th>WEATHER</th>\n",
       "      <th>TEMPERATUR</th>\n",
       "      <th>SEASON</th>\n",
       "      <th>ABB</th>\n",
       "      <th>FEEDER</th>\n",
       "      <th>AREA</th>\n",
       "      <th>NIKOM</th>\n",
       "      <th>LINE</th>\n",
       "      <th>CB</th>\n",
       "      <th>TYPE_LINE</th>\n",
       "      <th>ABNORMAL</th>\n",
       "      <th>KV</th>\n",
       "      <th>UNIT</th>\n",
       "      <th>EVENT</th>\n",
       "      <th>FROM</th>\n",
       "      <th>TO</th>\n",
       "      <th>PERIOD</th>\n",
       "      <th>TO_DATE</th>\n",
       "      <th>AMP</th>\n",
       "      <th>NAMP</th>\n",
       "      <th>TO1</th>\n",
       "      <th>TO2</th>\n",
       "      <th>TO3</th>\n",
       "      <th>TO4</th>\n",
       "      <th>AMP1</th>\n",
       "      <th>AMP2</th>\n",
       "      <th>AMP3</th>\n",
       "      <th>AMP4</th>\n",
       "      <th>TOCB1</th>\n",
       "      <th>TOCB_DATE</th>\n",
       "      <th>TOCB2</th>\n",
       "      <th>TOCB3</th>\n",
       "      <th>TOCB4</th>\n",
       "      <th>NEW_CODE</th>\n",
       "      <th>GROUP</th>\n",
       "      <th>CODE</th>\n",
       "      <th>TYPE</th>\n",
       "      <th>NEPO_GROUP</th>\n",
       "      <th>OLD_DISTRI</th>\n",
       "      <th>DISTRICT</th>\n",
       "      <th>POLE</th>\n",
       "      <th>LATERAL</th>\n",
       "      <th>ROAD</th>\n",
       "      <th>RELAY</th>\n",
       "      <th>COMPONENT</th>\n",
       "      <th>DEVICE</th>\n",
       "      <th>DEV_TYPE</th>\n",
       "      <th>PHASE</th>\n",
       "      <th>FAULT_TYPE</th>\n",
       "      <th>TIMES</th>\n",
       "      <th>LENGTH</th>\n",
       "      <th>TIMEOCB</th>\n",
       "      <th>TIMEFUSE</th>\n",
       "      <th>TIMEREPAIR</th>\n",
       "      <th>KVA_HR</th>\n",
       "      <th>LOSS</th>\n",
       "      <th>MW</th>\n",
       "      <th>BATH</th>\n",
       "      <th>TIME_EQ</th>\n",
       "      <th>MAJOR</th>\n",
       "      <th>CONTROL</th>\n",
       "    </tr>\n",
       "  </thead>\n",
       "  <tbody>\n",
       "    <tr>\n",
       "      <th>13921</th>\n",
       "      <td>1326</td>\n",
       "      <td>2020-10-31</td>\n",
       "      <td>31</td>\n",
       "      <td>10</td>\n",
       "      <td>10</td>\n",
       "      <td>10</td>\n",
       "      <td>2020</td>\n",
       "      <td>7</td>\n",
       "      <td></td>\n",
       "      <td>R</td>\n",
       "      <td>0.0</td>\n",
       "      <td></td>\n",
       "      <td>BZ</td>\n",
       "      <td>BZ-421</td>\n",
       "      <td>C</td>\n",
       "      <td>N</td>\n",
       "      <td></td>\n",
       "      <td></td>\n",
       "      <td></td>\n",
       "      <td></td>\n",
       "      <td>24.0</td>\n",
       "      <td>D</td>\n",
       "      <td>I</td>\n",
       "      <td>17:02</td>\n",
       "      <td>17:02</td>\n",
       "      <td></td>\n",
       "      <td>2020-10-31</td>\n",
       "      <td>120</td>\n",
       "      <td>120</td>\n",
       "      <td></td>\n",
       "      <td></td>\n",
       "      <td></td>\n",
       "      <td></td>\n",
       "      <td>0</td>\n",
       "      <td>0</td>\n",
       "      <td>0</td>\n",
       "      <td>0</td>\n",
       "      <td></td>\n",
       "      <td>2020-10-31</td>\n",
       "      <td></td>\n",
       "      <td></td>\n",
       "      <td></td>\n",
       "      <td>011</td>\n",
       "      <td>F</td>\n",
       "      <td>020</td>\n",
       "      <td>TF</td>\n",
       "      <td>70.0</td>\n",
       "      <td>NaN</td>\n",
       "      <td>3</td>\n",
       "      <td></td>\n",
       "      <td></td>\n",
       "      <td></td>\n",
       "      <td>OCI-R,EFI,RR</td>\n",
       "      <td></td>\n",
       "      <td></td>\n",
       "      <td></td>\n",
       "      <td>R</td>\n",
       "      <td></td>\n",
       "      <td></td>\n",
       "      <td>0</td>\n",
       "      <td>0</td>\n",
       "      <td>0</td>\n",
       "      <td>0</td>\n",
       "      <td>0</td>\n",
       "      <td>0</td>\n",
       "      <td>0.00</td>\n",
       "      <td>0.0</td>\n",
       "      <td>0.0</td>\n",
       "      <td></td>\n",
       "      <td>C</td>\n",
       "    </tr>\n",
       "    <tr>\n",
       "      <th>13922</th>\n",
       "      <td>1327</td>\n",
       "      <td>2020-10-31</td>\n",
       "      <td>31</td>\n",
       "      <td>10</td>\n",
       "      <td>10</td>\n",
       "      <td>10</td>\n",
       "      <td>2020</td>\n",
       "      <td>7</td>\n",
       "      <td></td>\n",
       "      <td>R</td>\n",
       "      <td>0.0</td>\n",
       "      <td></td>\n",
       "      <td>PE</td>\n",
       "      <td>PE-411</td>\n",
       "      <td>C</td>\n",
       "      <td>N</td>\n",
       "      <td></td>\n",
       "      <td></td>\n",
       "      <td></td>\n",
       "      <td></td>\n",
       "      <td>24.0</td>\n",
       "      <td>C</td>\n",
       "      <td>O</td>\n",
       "      <td>17:47</td>\n",
       "      <td>17:47</td>\n",
       "      <td></td>\n",
       "      <td>2020-10-31</td>\n",
       "      <td>90</td>\n",
       "      <td>90</td>\n",
       "      <td></td>\n",
       "      <td></td>\n",
       "      <td></td>\n",
       "      <td></td>\n",
       "      <td>0</td>\n",
       "      <td>0</td>\n",
       "      <td>0</td>\n",
       "      <td>0</td>\n",
       "      <td></td>\n",
       "      <td>2020-10-31</td>\n",
       "      <td></td>\n",
       "      <td></td>\n",
       "      <td></td>\n",
       "      <td>191</td>\n",
       "      <td>F</td>\n",
       "      <td>181</td>\n",
       "      <td>CO</td>\n",
       "      <td>80.0</td>\n",
       "      <td>NaN</td>\n",
       "      <td>6</td>\n",
       "      <td></td>\n",
       "      <td>HT.85-048292</td>\n",
       "      <td></td>\n",
       "      <td>OCI-YB,EFI,RR</td>\n",
       "      <td>C07</td>\n",
       "      <td></td>\n",
       "      <td></td>\n",
       "      <td>YB</td>\n",
       "      <td></td>\n",
       "      <td></td>\n",
       "      <td>0</td>\n",
       "      <td>0</td>\n",
       "      <td>0</td>\n",
       "      <td>0</td>\n",
       "      <td>0</td>\n",
       "      <td>0</td>\n",
       "      <td>0.00</td>\n",
       "      <td>0.0</td>\n",
       "      <td>0.0</td>\n",
       "      <td></td>\n",
       "      <td>U</td>\n",
       "    </tr>\n",
       "    <tr>\n",
       "      <th>13923</th>\n",
       "      <td>1328</td>\n",
       "      <td>2020-10-31</td>\n",
       "      <td>31</td>\n",
       "      <td>10</td>\n",
       "      <td>10</td>\n",
       "      <td>10</td>\n",
       "      <td>2020</td>\n",
       "      <td>7</td>\n",
       "      <td></td>\n",
       "      <td>R</td>\n",
       "      <td>0.0</td>\n",
       "      <td></td>\n",
       "      <td>CK</td>\n",
       "      <td>CK-413</td>\n",
       "      <td>C</td>\n",
       "      <td>N</td>\n",
       "      <td></td>\n",
       "      <td></td>\n",
       "      <td></td>\n",
       "      <td></td>\n",
       "      <td>24.0</td>\n",
       "      <td>D</td>\n",
       "      <td>I</td>\n",
       "      <td>19:56</td>\n",
       "      <td>19:56</td>\n",
       "      <td></td>\n",
       "      <td>2020-10-31</td>\n",
       "      <td>38</td>\n",
       "      <td>38</td>\n",
       "      <td></td>\n",
       "      <td></td>\n",
       "      <td></td>\n",
       "      <td></td>\n",
       "      <td>0</td>\n",
       "      <td>0</td>\n",
       "      <td>0</td>\n",
       "      <td>0</td>\n",
       "      <td></td>\n",
       "      <td>2020-10-31</td>\n",
       "      <td></td>\n",
       "      <td></td>\n",
       "      <td></td>\n",
       "      <td>053</td>\n",
       "      <td>F</td>\n",
       "      <td>020</td>\n",
       "      <td>TF</td>\n",
       "      <td>70.0</td>\n",
       "      <td>NaN</td>\n",
       "      <td>14</td>\n",
       "      <td></td>\n",
       "      <td>SOI PHAHOLYOTHIN 21</td>\n",
       "      <td></td>\n",
       "      <td>OCI-RY,EFI-T,RR</td>\n",
       "      <td>C07</td>\n",
       "      <td></td>\n",
       "      <td></td>\n",
       "      <td>RY</td>\n",
       "      <td></td>\n",
       "      <td></td>\n",
       "      <td>0</td>\n",
       "      <td>0</td>\n",
       "      <td>0</td>\n",
       "      <td>0</td>\n",
       "      <td>0</td>\n",
       "      <td>0</td>\n",
       "      <td>0.00</td>\n",
       "      <td>0.0</td>\n",
       "      <td>0.0</td>\n",
       "      <td></td>\n",
       "      <td>C</td>\n",
       "    </tr>\n",
       "    <tr>\n",
       "      <th>13924</th>\n",
       "      <td>1329</td>\n",
       "      <td>2020-10-31</td>\n",
       "      <td>31</td>\n",
       "      <td>10</td>\n",
       "      <td>10</td>\n",
       "      <td>10</td>\n",
       "      <td>2020</td>\n",
       "      <td>7</td>\n",
       "      <td></td>\n",
       "      <td>N</td>\n",
       "      <td>0.0</td>\n",
       "      <td></td>\n",
       "      <td>KSK</td>\n",
       "      <td>KSK-413</td>\n",
       "      <td>S</td>\n",
       "      <td>N</td>\n",
       "      <td></td>\n",
       "      <td></td>\n",
       "      <td></td>\n",
       "      <td></td>\n",
       "      <td>24.0</td>\n",
       "      <td>D</td>\n",
       "      <td>I</td>\n",
       "      <td>20:32</td>\n",
       "      <td>20:32</td>\n",
       "      <td></td>\n",
       "      <td>2020-10-31</td>\n",
       "      <td>130</td>\n",
       "      <td>130</td>\n",
       "      <td></td>\n",
       "      <td></td>\n",
       "      <td></td>\n",
       "      <td></td>\n",
       "      <td>0</td>\n",
       "      <td>0</td>\n",
       "      <td>0</td>\n",
       "      <td>0</td>\n",
       "      <td></td>\n",
       "      <td>2020-10-31</td>\n",
       "      <td></td>\n",
       "      <td></td>\n",
       "      <td></td>\n",
       "      <td>011</td>\n",
       "      <td>F</td>\n",
       "      <td>020</td>\n",
       "      <td>TF</td>\n",
       "      <td>70.0</td>\n",
       "      <td>NaN</td>\n",
       "      <td>15</td>\n",
       "      <td></td>\n",
       "      <td></td>\n",
       "      <td></td>\n",
       "      <td>OCI,EFI,RR</td>\n",
       "      <td></td>\n",
       "      <td></td>\n",
       "      <td></td>\n",
       "      <td></td>\n",
       "      <td></td>\n",
       "      <td></td>\n",
       "      <td>0</td>\n",
       "      <td>0</td>\n",
       "      <td>0</td>\n",
       "      <td>0</td>\n",
       "      <td>0</td>\n",
       "      <td>0</td>\n",
       "      <td>0.00</td>\n",
       "      <td>0.0</td>\n",
       "      <td>0.0</td>\n",
       "      <td></td>\n",
       "      <td>C</td>\n",
       "    </tr>\n",
       "    <tr>\n",
       "      <th>13925</th>\n",
       "      <td>1330</td>\n",
       "      <td>2020-10-31</td>\n",
       "      <td>31</td>\n",
       "      <td>10</td>\n",
       "      <td>10</td>\n",
       "      <td>10</td>\n",
       "      <td>2020</td>\n",
       "      <td>7</td>\n",
       "      <td></td>\n",
       "      <td>N</td>\n",
       "      <td>0.0</td>\n",
       "      <td></td>\n",
       "      <td>RN</td>\n",
       "      <td>RN-438</td>\n",
       "      <td>C</td>\n",
       "      <td>N</td>\n",
       "      <td></td>\n",
       "      <td></td>\n",
       "      <td></td>\n",
       "      <td></td>\n",
       "      <td>24.0</td>\n",
       "      <td>D</td>\n",
       "      <td>I</td>\n",
       "      <td>23:51</td>\n",
       "      <td>23:51</td>\n",
       "      <td></td>\n",
       "      <td>2020-10-31</td>\n",
       "      <td>80</td>\n",
       "      <td>80</td>\n",
       "      <td></td>\n",
       "      <td></td>\n",
       "      <td></td>\n",
       "      <td></td>\n",
       "      <td>0</td>\n",
       "      <td>0</td>\n",
       "      <td>0</td>\n",
       "      <td>0</td>\n",
       "      <td></td>\n",
       "      <td>2020-10-31</td>\n",
       "      <td></td>\n",
       "      <td></td>\n",
       "      <td></td>\n",
       "      <td>011</td>\n",
       "      <td>F</td>\n",
       "      <td>020</td>\n",
       "      <td>TF</td>\n",
       "      <td>70.0</td>\n",
       "      <td>NaN</td>\n",
       "      <td>7</td>\n",
       "      <td></td>\n",
       "      <td></td>\n",
       "      <td></td>\n",
       "      <td>TARGET NOT SHOWN,RR</td>\n",
       "      <td></td>\n",
       "      <td></td>\n",
       "      <td></td>\n",
       "      <td></td>\n",
       "      <td></td>\n",
       "      <td></td>\n",
       "      <td>0</td>\n",
       "      <td>0</td>\n",
       "      <td>0</td>\n",
       "      <td>0</td>\n",
       "      <td>0</td>\n",
       "      <td>0</td>\n",
       "      <td>0.00</td>\n",
       "      <td>0.0</td>\n",
       "      <td>0.0</td>\n",
       "      <td></td>\n",
       "      <td>C</td>\n",
       "    </tr>\n",
       "  </tbody>\n",
       "</table>\n",
       "</div>"
      ],
      "text/plain": [
       "         ID        DATE  DAY  MONTH  NEW_MONTH  NEW_MONTH2  YEAR  DOW  \\\n",
       "13921  1326  2020-10-31   31     10         10          10  2020    7   \n",
       "13922  1327  2020-10-31   31     10         10          10  2020    7   \n",
       "13923  1328  2020-10-31   31     10         10          10  2020    7   \n",
       "13924  1329  2020-10-31   31     10         10          10  2020    7   \n",
       "13925  1330  2020-10-31   31     10         10          10  2020    7   \n",
       "\n",
       "      TYPE_DAY WEATHER TEMPERATUR SEASON  ABB   FEEDER AREA NIKOM LINE CB  \\\n",
       "13921                R        0.0          BZ   BZ-421    C     N           \n",
       "13922                R        0.0          PE   PE-411    C     N           \n",
       "13923                R        0.0          CK   CK-413    C     N           \n",
       "13924                N        0.0         KSK  KSK-413    S     N           \n",
       "13925                N        0.0          RN   RN-438    C     N           \n",
       "\n",
       "      TYPE_LINE ABNORMAL    KV UNIT EVENT   FROM     TO PERIOD     TO_DATE  \\\n",
       "13921                     24.0    D     I  17:02  17:02         2020-10-31   \n",
       "13922                     24.0    C     O  17:47  17:47         2020-10-31   \n",
       "13923                     24.0    D     I  19:56  19:56         2020-10-31   \n",
       "13924                     24.0    D     I  20:32  20:32         2020-10-31   \n",
       "13925                     24.0    D     I  23:51  23:51         2020-10-31   \n",
       "\n",
       "       AMP  NAMP TO1 TO2 TO3 TO4 AMP1 AMP2 AMP3 AMP4 TOCB1   TOCB_DATE TOCB2  \\\n",
       "13921  120   120                    0    0    0    0        2020-10-31         \n",
       "13922   90    90                    0    0    0    0        2020-10-31         \n",
       "13923   38    38                    0    0    0    0        2020-10-31         \n",
       "13924  130   130                    0    0    0    0        2020-10-31         \n",
       "13925   80    80                    0    0    0    0        2020-10-31         \n",
       "\n",
       "      TOCB3 TOCB4 NEW_CODE GROUP CODE TYPE  NEPO_GROUP  OLD_DISTRI  DISTRICT  \\\n",
       "13921                  011     F  020   TF        70.0         NaN         3   \n",
       "13922                  191     F  181   CO        80.0         NaN         6   \n",
       "13923                  053     F  020   TF        70.0         NaN        14   \n",
       "13924                  011     F  020   TF        70.0         NaN        15   \n",
       "13925                  011     F  020   TF        70.0         NaN         7   \n",
       "\n",
       "      POLE              LATERAL ROAD                RELAY COMPONENT DEVICE  \\\n",
       "13921                                        OCI-R,EFI,RR                    \n",
       "13922              HT.85-048292             OCI-YB,EFI,RR       C07          \n",
       "13923       SOI PHAHOLYOTHIN 21           OCI-RY,EFI-T,RR       C07          \n",
       "13924                                          OCI,EFI,RR                    \n",
       "13925                                 TARGET NOT SHOWN,RR                    \n",
       "\n",
       "      DEV_TYPE PHASE FAULT_TYPE TIMES LENGTH  TIMEOCB  TIMEFUSE TIMEREPAIR  \\\n",
       "13921              R                       0        0         0          0   \n",
       "13922             YB                       0        0         0          0   \n",
       "13923             RY                       0        0         0          0   \n",
       "13924                                      0        0         0          0   \n",
       "13925                                      0        0         0          0   \n",
       "\n",
       "       KVA_HR  LOSS      MW  BATH  TIME_EQ MAJOR CONTROL  \n",
       "13921       0     0    0.00   0.0      0.0             C  \n",
       "13922       0     0    0.00   0.0      0.0             U  \n",
       "13923       0     0    0.00   0.0      0.0             C  \n",
       "13924       0     0    0.00   0.0      0.0             C  \n",
       "13925       0     0    0.00   0.0      0.0             C  "
      ]
     },
     "execution_count": 5,
     "metadata": {},
     "output_type": "execute_result"
    }
   ],
   "source": [
    "total_records = df.shape[0]\n",
    "df.tail()"
   ]
  },
  {
   "cell_type": "markdown",
   "metadata": {},
   "source": [
    "## - Import module for connecting to MySQL"
   ]
  },
  {
   "cell_type": "code",
   "execution_count": 6,
   "metadata": {},
   "outputs": [],
   "source": [
    "from sqlalchemy import create_engine # conda install sqlalchemy\n",
    "import pymysql # conda install pymysql"
   ]
  },
  {
   "cell_type": "code",
   "execution_count": 7,
   "metadata": {
    "scrolled": true
   },
   "outputs": [
    {
     "name": "stdout",
     "output_type": "stream",
     "text": [
      "pymysql version: 0.10.1\n"
     ]
    }
   ],
   "source": [
    "print(f'pymysql version: {pymysql.__version__}')"
   ]
  },
  {
   "cell_type": "markdown",
   "metadata": {},
   "source": [
    "### - create a connection to MySQL"
   ]
  },
  {
   "cell_type": "code",
   "execution_count": 8,
   "metadata": {},
   "outputs": [
    {
     "name": "stdout",
     "output_type": "stream",
     "text": [
      "connection string = mysql+pymysql://root:@localhost:3306/statistics_database\n"
     ]
    }
   ],
   "source": [
    "# uid = 'reliability'\n",
    "# pwd = 'pcd_db'\n",
    "# host = '10.99.1.36'\n",
    "# uid = 'root'\n",
    "# pwd = 'admin'\n",
    "# host = 'localhost'\n",
    "uid = 'root'\n",
    "pwd = ''\n",
    "host = 'localhost'\n",
    "port = 3306\n",
    "db = 'statistics_database'\n",
    "con_string = f'mysql+pymysql://{uid}:{pwd}@{host}:{port}/{db}'\n",
    "print(f'connection string = {con_string}')\n",
    "con = create_engine(con_string)"
   ]
  },
  {
   "cell_type": "code",
   "execution_count": 9,
   "metadata": {
    "scrolled": true
   },
   "outputs": [],
   "source": [
    "# con.table_names()"
   ]
  },
  {
   "cell_type": "markdown",
   "metadata": {},
   "source": [
    "## 2. Change data type in each fields"
   ]
  },
  {
   "cell_type": "code",
   "execution_count": 10,
   "metadata": {},
   "outputs": [],
   "source": [
    "# import Javascript for working with browser\n",
    "# from IPython.display import Javascript\n",
    "# Javascript(\"alert();\")"
   ]
  },
  {
   "cell_type": "code",
   "execution_count": 11,
   "metadata": {
    "scrolled": true
   },
   "outputs": [],
   "source": [
    "# df.info()"
   ]
  },
  {
   "cell_type": "markdown",
   "metadata": {},
   "source": [
    "### 2.1 DATE field to datetime"
   ]
  },
  {
   "cell_type": "code",
   "execution_count": 12,
   "metadata": {},
   "outputs": [
    {
     "data": {
      "text/plain": [
       "array([], dtype=object)"
      ]
     },
     "execution_count": 12,
     "metadata": {},
     "output_type": "execute_result"
    }
   ],
   "source": [
    "regex = r'[12]\\d{3}-0[1-9]|1[0-2]-0[1-9]|[12]\\d|3[01]'\n",
    "df[~(df['DATE'].astype(str).str.contains(regex))]['DATE'].unique()"
   ]
  },
  {
   "cell_type": "code",
   "execution_count": 13,
   "metadata": {
    "scrolled": true
   },
   "outputs": [
    {
     "name": "stdout",
     "output_type": "stream",
     "text": [
      "Total records : 13926\n",
      "NaT records : 0\n",
      "Date records : 13926\n",
      "SUM records : 13926\n"
     ]
    }
   ],
   "source": [
    "df['DATE'] = pd.to_datetime(df['DATE'], errors='coerce')\n",
    "# df.info()\n",
    "print(f'Total records : {total_records}')\n",
    "print('NaT records : %d' %df[df['DATE'].isna()]['ID'].count())\n",
    "print('Date records : %d' %df[~df['DATE'].isna()]['ID'].count())\n",
    "print('SUM records : %d' %(df[df['DATE'].isna()]['ID'].count() + df[~df['DATE'].isna()]['ID'].count()))"
   ]
  },
  {
   "cell_type": "markdown",
   "metadata": {},
   "source": [
    "### 2.2 TO_DATE field to datetime"
   ]
  },
  {
   "cell_type": "code",
   "execution_count": 14,
   "metadata": {},
   "outputs": [
    {
     "data": {
      "text/plain": [
       "array([None], dtype=object)"
      ]
     },
     "execution_count": 14,
     "metadata": {},
     "output_type": "execute_result"
    }
   ],
   "source": [
    "regex = r'[12]\\d{3}-0[1-9]|1[0-2]-0[1-9]|[12]\\d|3[01]'\n",
    "df[~(df['TO_DATE'].astype(str).str.contains(regex))]['TO_DATE'].unique()"
   ]
  },
  {
   "cell_type": "code",
   "execution_count": 15,
   "metadata": {},
   "outputs": [
    {
     "name": "stdout",
     "output_type": "stream",
     "text": [
      "Total records : 13926\n",
      "NaT records : 3163\n",
      "Date records : 10763\n",
      "SUM records : 13926\n"
     ]
    }
   ],
   "source": [
    "df['TO_DATE'] = pd.to_datetime(df['TO_DATE'], errors='coerce')\n",
    "# df.info()\n",
    "print(f'Total records : {total_records}')\n",
    "print('NaT records : %d' %df[df['TO_DATE'].isna()]['ID'].count())\n",
    "print('Date records : %d' %df[~df['TO_DATE'].isna()]['ID'].count())\n",
    "print('SUM records : %d' %(df[df['TO_DATE'].isna()]['ID'].count() + df[~df['TO_DATE'].isna()]['ID'].count()))"
   ]
  },
  {
   "cell_type": "code",
   "execution_count": 16,
   "metadata": {
    "scrolled": false
   },
   "outputs": [],
   "source": [
    "# indexing = df[df['TO_DATE'].isna()].index\n",
    "# print(indexing)\n",
    "# df.loc[indexing, 'TO_DATE'] = None\n",
    "# df.loc[indexing, 'TO_DATE']\n",
    "# df[df['TO_DATE'].isna()]['ID'].count()"
   ]
  },
  {
   "cell_type": "markdown",
   "metadata": {},
   "source": [
    "### 2.1 TOCB_DATE field to datetime"
   ]
  },
  {
   "cell_type": "code",
   "execution_count": 17,
   "metadata": {},
   "outputs": [
    {
     "data": {
      "text/plain": [
       "array([None], dtype=object)"
      ]
     },
     "execution_count": 17,
     "metadata": {},
     "output_type": "execute_result"
    }
   ],
   "source": [
    "regex = r'[12]\\d{3}-0[1-9]|1[0-2]-0[1-9]|[12]\\d|3[01]'\n",
    "df[~(df['TOCB_DATE'].astype(str).str.contains(regex))]['TOCB_DATE'].unique()"
   ]
  },
  {
   "cell_type": "code",
   "execution_count": 18,
   "metadata": {},
   "outputs": [
    {
     "name": "stdout",
     "output_type": "stream",
     "text": [
      "Total records : 13926\n",
      "NaT records : 3168\n",
      "Date records : 10758\n",
      "SUM records : 13926\n"
     ]
    }
   ],
   "source": [
    "df['TOCB_DATE'] = pd.to_datetime(df['TOCB_DATE'], errors='coerce')\n",
    "# df.info()\n",
    "print(f'Total records : {total_records}')\n",
    "print('NaT records : %d' %df[df['TOCB_DATE'].isna()]['ID'].count())\n",
    "print('Date records : %d' %df[~df['TOCB_DATE'].isna()]['ID'].count())\n",
    "print('SUM records : %d' %(df[df['TOCB_DATE'].isna()]['ID'].count() + df[~df['TOCB_DATE'].isna()]['ID'].count()))"
   ]
  },
  {
   "cell_type": "code",
   "execution_count": 19,
   "metadata": {
    "scrolled": false
   },
   "outputs": [],
   "source": [
    "# df.dtypes.value_counts()"
   ]
  },
  {
   "cell_type": "markdown",
   "metadata": {},
   "source": [
    "## 3. Check miss match data in each fields"
   ]
  },
  {
   "cell_type": "code",
   "execution_count": 20,
   "metadata": {
    "scrolled": true
   },
   "outputs": [],
   "source": [
    "# df.info()"
   ]
  },
  {
   "cell_type": "markdown",
   "metadata": {},
   "source": [
    "### 3.1 Weather"
   ]
  },
  {
   "cell_type": "code",
   "execution_count": 21,
   "metadata": {},
   "outputs": [
    {
     "name": "stdout",
     "output_type": "stream",
     "text": [
      "PASS^^ : Weahter data have already complete.\n"
     ]
    }
   ],
   "source": [
    "# df.loc[0:5, 'WEATHER'] = 'S'\n",
    "indexList = df[~df['WEATHER'].isin(['N', 'R'])].index\n",
    "if len(indexList):\n",
    "    print(df.loc[indexList, 'WEATHER'])\n",
    "    df.loc[indexList, 'WEATHER'] = 'N'\n",
    "    print(df.loc[indexList, 'WEATHER'])\n",
    "else:\n",
    "    print('PASS^^ : Weahter data have already complete.')"
   ]
  },
  {
   "cell_type": "markdown",
   "metadata": {},
   "source": [
    "### 3.2 ABB"
   ]
  },
  {
   "cell_type": "code",
   "execution_count": 22,
   "metadata": {
    "scrolled": true
   },
   "outputs": [
    {
     "name": "stdout",
     "output_type": "stream",
     "text": [
      "Pass^^ : No empty ABB records for non \"E\" GROUP\n"
     ]
    }
   ],
   "source": [
    "# Check empty ABB (ABB can empty if GROUP is 'E')\n",
    "# pd.crosstab(df['ABB'], columns='COUNT')\n",
    "if len(df[(df['ABB'] == '') & (df['GROUP'] != 'E')]) > 0:\n",
    "    print('Please check empty ABB records !!!')\n",
    "else:\n",
    "    print('Pass^^ : No empty ABB records for non \"E\" GROUP')"
   ]
  },
  {
   "cell_type": "code",
   "execution_count": 23,
   "metadata": {
    "scrolled": true
   },
   "outputs": [
    {
     "name": "stdout",
     "output_type": "stream",
     "text": [
      "Pass^^ : All group \"F\" records, \"ABB\" match with \"FEEDER\"\n"
     ]
    }
   ],
   "source": [
    "# %%time\n",
    "# Check ABB is not in Feeder fields\n",
    "# df[df['GROUP'].isin(['F'])][['ABB', 'FEEDER']].apply(lambda row: print('Miss match \"ABB\" : %s and \"FEEDER\" : %s' %(row['ABB'], row['FEEDER']) if row['ABB'] not in row['FEEDER'] else 'Match'), axis=1);\n",
    "missmatchAbbFeeder = pd.DataFrame()\n",
    "feederRows = df[df['GROUP'].isin(['F'])][['ABB', 'FEEDER']]\n",
    "for idx, row in feederRows.iterrows():\n",
    "    if row['ABB'] not in row['FEEDER']:\n",
    "        missmatchAbbFeeder = missmatchAbbFeeder.append(row)\n",
    "\n",
    "if len(missmatchAbbFeeder) > 0:\n",
    "    print('Please check group \"F\" records that \"ABB\" miss match with \"FEEDER\" !!!')\n",
    "    print(missmatchAbbFeeder)\n",
    "    missmatchAbbFeederIdx = missmatchAbbFeeder.index\n",
    "    for idx, row in missmatchAbbFeeder.iterrows():\n",
    "        df.loc[idx, 'ABB'] = row['FEEDER'].split('-',1)[0]\n",
    "    print('They have already corrected^^')\n",
    "    print(df.loc[missmatchAbbFeederIdx, ['ABB', 'FEEDER']])\n",
    "else:\n",
    "    print('Pass^^ : All group \"F\" records, \"ABB\" match with \"FEEDER\"')"
   ]
  },
  {
   "cell_type": "code",
   "execution_count": 24,
   "metadata": {
    "scrolled": true
   },
   "outputs": [
    {
     "name": "stdout",
     "output_type": "stream",
     "text": [
      "Pass^^ : All group \"S\" records, \"ABB\" match with \"CB\"\n",
      "Pass^^ : All group \"S\" records, \"ABB\" match with \"FEEDER\"\n"
     ]
    }
   ],
   "source": [
    "# Check ABB is not in CB fields\n",
    "missmatchAbbStaionH = pd.DataFrame() # StationH = Station and 'H' event\n",
    "missmatchAbbStationF = pd.DataFrame() # StationF = Station and 'I, O' event\n",
    "stationRows = df[df['GROUP'].isin(['S'])][['ABB', 'FEEDER', 'CB', 'EVENT']]\n",
    "for idx, row in stationRows.iterrows():\n",
    "    if row['EVENT'] == 'H':\n",
    "        if row['ABB'] not in row['CB']:\n",
    "            missmatchAbbStaionH = missmatchAbbStaionH.append(row)\n",
    "    else: # row['EVENT'] != 'H'\n",
    "        if row['ABB'] not in row['FEEDER']:\n",
    "            missmatchAbbStationF = missmatchAbbStationF.append(row)\n",
    "\n",
    "if len(missmatchAbbStaionH) > 0:\n",
    "    print('Please check group \"S\" records that \"ABB\" miss match with \"CB\" !!!')\n",
    "    print(missmatchAbbStaionH)\n",
    "else:\n",
    "    print('Pass^^ : All group \"S\" records, \"ABB\" match with \"CB\"')\n",
    "    \n",
    "if len(missmatchAbbStationF) > 0:\n",
    "    print('Please check group \"S\" records that \"ABB\" miss match with \"FEEDER\" !!!')\n",
    "    print(missmatchAbbStationF)\n",
    "    missmatchAbbStationFIdx = missmatchAbbStationF.index\n",
    "    for idx, row in missmatchAbbStationF.iterrows():\n",
    "        df.loc[idx, 'ABB'] = row['FEEDER'].split('-',1)[0]\n",
    "    print('They have already corrected^^')\n",
    "    print(df.loc[missmatchAbbStationFIdx, ['ABB', 'CB', 'EVENT', 'FEEDER']])\n",
    "else:\n",
    "    print('Pass^^ : All group \"S\" records, \"ABB\" match with \"FEEDER\"')"
   ]
  },
  {
   "cell_type": "code",
   "execution_count": 25,
   "metadata": {},
   "outputs": [],
   "source": [
    "# df.loc[12507:12509, 'ABB'] = 'WPC'"
   ]
  },
  {
   "cell_type": "code",
   "execution_count": 26,
   "metadata": {},
   "outputs": [
    {
     "name": "stdout",
     "output_type": "stream",
     "text": [
      "Pass^^ : All group \"L\" records, \"ABB\" match with \"LINE\"\n",
      "Please check group \"L\" records that \"ABB\" miss match with \"FEEDER\" !!!\n",
      "       ABB EVENT   FEEDER     LINE\n",
      "12509  WPC     I  WKS-411  SKT-695\n",
      "They have already corrected^^\n",
      "       ABB EVENT   FEEDER     LINE\n",
      "12509  WKS     I  WKS-411  SKT-695\n"
     ]
    }
   ],
   "source": [
    "# Check ABB is not in LINE fields\n",
    "missmatchAbbLineH = pd.DataFrame() # LineH = Line and 'H' event\n",
    "missmatchAbbLineF = pd.DataFrame() # LineH = Line and 'I, O' event\n",
    "lineRows = df[df['GROUP'].isin(['L'])][['ABB', 'FEEDER', 'LINE', 'EVENT']]\n",
    "for idx, row in lineRows.iterrows():\n",
    "    if row['EVENT'] == 'H':\n",
    "        if row['ABB'] not in row['LINE']:\n",
    "            missmatchAbbLineH = missmatchAbbLineH.append(row)\n",
    "    else: # row['EVENT'] != 'H'\n",
    "        if row['ABB'] not in row['FEEDER']:\n",
    "            missmatchAbbLineF = missmatchAbbLineF.append(row)\n",
    "\n",
    "if len(missmatchAbbLineH) > 0:\n",
    "    print('Please check group \"L\" records that \"ABB\" miss match with \"LINE\" !!!')\n",
    "    print(missmatchAbbLineH)\n",
    "else:\n",
    "    print('Pass^^ : All group \"L\" records, \"ABB\" match with \"LINE\"')\n",
    "    \n",
    "if len(missmatchAbbLineF) > 0:\n",
    "    print('Please check group \"L\" records that \"ABB\" miss match with \"FEEDER\" !!!')\n",
    "    print(missmatchAbbLineF)\n",
    "    missmatchAbbLineFIdx = missmatchAbbLineF.index\n",
    "    for idx, row in missmatchAbbLineF.iterrows():\n",
    "        df.loc[idx, 'ABB'] = row['FEEDER'].split('-',1)[0]\n",
    "    print('They have already corrected^^')\n",
    "    print(df.loc[missmatchAbbLineFIdx, ['ABB', 'EVENT', 'FEEDER', 'LINE']])\n",
    "else:\n",
    "    print('Pass^^ : All group \"L\" records, \"ABB\" match with \"FEEDER\"')"
   ]
  },
  {
   "cell_type": "markdown",
   "metadata": {},
   "source": [
    "### 3.3 FROM"
   ]
  },
  {
   "cell_type": "code",
   "execution_count": 27,
   "metadata": {},
   "outputs": [
    {
     "name": "stdout",
     "output_type": "stream",
     "text": [
      "Pass^^ : All \"FROM\" records have already correct\n"
     ]
    }
   ],
   "source": [
    "regex = r'^[0-9]|[0-1][0-9]|[2][0-3]:[0-5][0-9]$'\n",
    "missmatchFrom = df[~df['FROM'].str.contains(regex)]['FROM']\n",
    "if len(missmatchFrom) > 0:\n",
    "    print('Please check \"FROM\" miss match records !!!')\n",
    "else:\n",
    "    print('Pass^^ : All \"FROM\" records have already correct')"
   ]
  },
  {
   "cell_type": "markdown",
   "metadata": {},
   "source": [
    "### 3.4 TO"
   ]
  },
  {
   "cell_type": "code",
   "execution_count": 28,
   "metadata": {},
   "outputs": [
    {
     "name": "stdout",
     "output_type": "stream",
     "text": [
      "Please check \"TO\" miss match records !!!\n",
      "8136    **:**\n",
      "8137    **:**\n",
      "8675    **:**\n",
      "Name: TO, dtype: object\n",
      "They have already corrected^^\n",
      "8136    None\n",
      "8137    None\n",
      "8675    None\n",
      "Name: TO, dtype: object\n"
     ]
    }
   ],
   "source": [
    "regex = r'^[0-9]|[0-1][0-9]|[2][0-3]:[0-5][0-9]$'\n",
    "missmatchTo = df[~df['TO'].str.contains(regex)]['TO']\n",
    "if len(missmatchTo) > 0:\n",
    "    print('Please check \"TO\" miss match records !!!')\n",
    "    missmatchToIdx = missmatchTo.index\n",
    "    print(missmatchTo)\n",
    "    df.loc[missmatchToIdx, 'TO'] = None\n",
    "    print('They have already corrected^^')\n",
    "    print(df.loc[missmatchToIdx, 'TO'])\n",
    "else:\n",
    "    print('Pass^^ : All \"TO\" records have already correct')"
   ]
  },
  {
   "cell_type": "markdown",
   "metadata": {},
   "source": [
    "### 3.5 TO1"
   ]
  },
  {
   "cell_type": "code",
   "execution_count": 29,
   "metadata": {},
   "outputs": [
    {
     "name": "stdout",
     "output_type": "stream",
     "text": [
      "Please check \"TO1\" miss match records !!!\n",
      "2007      :\n",
      "9118      :\n",
      "Name: TO1, dtype: object\n",
      "They have already corrected^^\n",
      "2007    None\n",
      "9118    None\n",
      "Name: TO1, dtype: object\n"
     ]
    }
   ],
   "source": [
    "regex = r'^[0-9]|[0-1][0-9]|[2][0-3]:[0-5][0-9]$'\n",
    "missmatchTo1 = df[~df['TO1'].str.contains(regex)]['TO1']\n",
    "missmatchTo1 = missmatchTo1[~(missmatchTo1 == '')]\n",
    "if len(missmatchTo1) > 0:\n",
    "    print('Please check \"TO1\" miss match records !!!')\n",
    "    missmatchTo1Idx = missmatchTo1.index\n",
    "    print(missmatchTo1)\n",
    "    df.loc[missmatchTo1Idx, 'TO1'] = None\n",
    "    print('They have already corrected^^')\n",
    "    print(df.loc[missmatchTo1Idx, 'TO1'])\n",
    "else:\n",
    "    print('Pass^^ : All \"TO1\" records have already correct')"
   ]
  },
  {
   "cell_type": "markdown",
   "metadata": {},
   "source": [
    "### 3.6 TO2"
   ]
  },
  {
   "cell_type": "code",
   "execution_count": 30,
   "metadata": {},
   "outputs": [
    {
     "name": "stdout",
     "output_type": "stream",
     "text": [
      "Pass^^ : All \"TO2\" records have already correct\n"
     ]
    }
   ],
   "source": [
    "regex = r'^[0-9]|[0-1][0-9]|[2][0-3]:[0-5][0-9]$'\n",
    "missmatchTo2 = df[~df['TO2'].str.contains(regex)]['TO2']\n",
    "missmatchTo2 = missmatchTo2[~(missmatchTo2 == '')]\n",
    "if len(missmatchTo2) > 0:\n",
    "    print('Please check \"TO2\" miss match records !!!')\n",
    "    missmatchTo2Idx = missmatchTo2.index\n",
    "    print(missmatchTo2)\n",
    "    df.loc[missmatchTo2Idx, 'TO2'] = None\n",
    "    print('They have already corrected^^')\n",
    "    print(df.loc[missmatchTo2Idx, 'TO2'])\n",
    "else:\n",
    "    print('Pass^^ : All \"TO2\" records have already correct')"
   ]
  },
  {
   "cell_type": "markdown",
   "metadata": {},
   "source": [
    "### 3.7 TO3"
   ]
  },
  {
   "cell_type": "code",
   "execution_count": 31,
   "metadata": {},
   "outputs": [
    {
     "name": "stdout",
     "output_type": "stream",
     "text": [
      "Pass^^ : All \"TO3\" records have already correct\n"
     ]
    }
   ],
   "source": [
    "regex = r'^[0-9]|[0-1][0-9]|[2][0-3]:[0-5][0-9]$'\n",
    "missmatchTo3 = df[~df['TO3'].str.contains(regex)]['TO3']\n",
    "missmatchTo3 = missmatchTo3[~(missmatchTo3 == '')]\n",
    "if len(missmatchTo3) > 0:\n",
    "    print('Please check \"TO3\" miss match records !!!')\n",
    "    missmatchTo3Idx = missmatchTo3.index\n",
    "    print(missmatchTo3)\n",
    "    df.loc[missmatchTo3Idx, 'TO3'] = None\n",
    "    print('They have already corrected^^')\n",
    "    print(df.loc[missmatchTo3Idx, 'TO3'])\n",
    "else:\n",
    "    print('Pass^^ : All \"TO3\" records have already correct')"
   ]
  },
  {
   "cell_type": "markdown",
   "metadata": {},
   "source": [
    "### 3.8 TO4"
   ]
  },
  {
   "cell_type": "code",
   "execution_count": 32,
   "metadata": {},
   "outputs": [
    {
     "name": "stdout",
     "output_type": "stream",
     "text": [
      "Pass^^ : All \"TO4\" records have already correct\n"
     ]
    }
   ],
   "source": [
    "regex = r'^[0-9]|[0-1][0-9]|[2][0-3]:[0-5][0-9]$'\n",
    "missmatchTo4 = df[~df['TO4'].str.contains(regex)]['TO4']\n",
    "missmatchTo4 = missmatchTo4[~(missmatchTo4 == '')]\n",
    "if len(missmatchTo4) > 0:\n",
    "    print('Please check \"TO4\" miss match records !!!')\n",
    "    missmatchTo4Idx = missmatchTo4.index\n",
    "    print(missmatchTo4)\n",
    "    df.loc[missmatchTo4Idx, 'TO4'] = None\n",
    "    print('They have already corrected^^')\n",
    "    print(df.loc[missmatchTo4Idx, 'TO4'])\n",
    "else:\n",
    "    print('Pass^^ : All \"TO4\" records have already correct')"
   ]
  },
  {
   "cell_type": "markdown",
   "metadata": {},
   "source": [
    "### 3.9 TOCB1"
   ]
  },
  {
   "cell_type": "code",
   "execution_count": 33,
   "metadata": {
    "scrolled": true
   },
   "outputs": [
    {
     "name": "stdout",
     "output_type": "stream",
     "text": [
      "Please check \"TOCB1\" miss match records !!!\n",
      "481          :\n",
      "523          :\n",
      "743          :\n",
      "819          :\n",
      "879          :\n",
      "1704         :\n",
      "1795         :\n",
      "1968         :\n",
      "7338     **:**\n",
      "8095         :\n",
      "8149         :\n",
      "8206         :\n",
      "8492         :\n",
      "8601         :\n",
      "8631         :\n",
      "8827         :\n",
      "9233         :\n",
      "9415         :\n",
      "9421         :\n",
      "9836         :\n",
      "9872         :\n",
      "10210        :\n",
      "10236        :\n",
      "10377        :\n",
      "10699        :\n",
      "10790        :\n",
      "10893        :\n",
      "11185        :\n",
      "11198    **:**\n",
      "11199        :\n",
      "11333        :\n",
      "11738        :\n",
      "11964        :\n",
      "12008    **:**\n",
      "12127        :\n",
      "12331        :\n",
      "12526        :\n",
      "12694        :\n",
      "12759        :\n",
      "12767        :\n",
      "Name: TOCB1, dtype: object\n",
      "They have already corrected^^\n",
      "481      None\n",
      "523      None\n",
      "743      None\n",
      "819      None\n",
      "879      None\n",
      "1704     None\n",
      "1795     None\n",
      "1968     None\n",
      "7338     None\n",
      "8095     None\n",
      "8149     None\n",
      "8206     None\n",
      "8492     None\n",
      "8601     None\n",
      "8631     None\n",
      "8827     None\n",
      "9233     None\n",
      "9415     None\n",
      "9421     None\n",
      "9836     None\n",
      "9872     None\n",
      "10210    None\n",
      "10236    None\n",
      "10377    None\n",
      "10699    None\n",
      "10790    None\n",
      "10893    None\n",
      "11185    None\n",
      "11198    None\n",
      "11199    None\n",
      "11333    None\n",
      "11738    None\n",
      "11964    None\n",
      "12008    None\n",
      "12127    None\n",
      "12331    None\n",
      "12526    None\n",
      "12694    None\n",
      "12759    None\n",
      "12767    None\n",
      "Name: TOCB1, dtype: object\n"
     ]
    }
   ],
   "source": [
    "regex = r'^[0-9]|[0-1][0-9]|[2][0-3]:[0-5][0-9]$'\n",
    "missmatchTocb1 = df[~df['TOCB1'].str.contains(regex)]['TOCB1']\n",
    "missmatchTocb1 = missmatchTocb1[~(missmatchTocb1 == '')]\n",
    "if len(missmatchTocb1) > 0:\n",
    "    print('Please check \"TOCB1\" miss match records !!!')\n",
    "    missmatchTocb1Idx = missmatchTocb1.index\n",
    "    print(missmatchTocb1)\n",
    "    df.loc[missmatchTocb1Idx, 'TOCB1'] = None\n",
    "    print('They have already corrected^^')\n",
    "    print(df.loc[missmatchTocb1Idx, 'TOCB1'])\n",
    "else:\n",
    "    print('Pass^^ : All \"TOCB1\" records have already correct')"
   ]
  },
  {
   "cell_type": "markdown",
   "metadata": {},
   "source": [
    "### 3.10 TOCB2"
   ]
  },
  {
   "cell_type": "code",
   "execution_count": 34,
   "metadata": {
    "scrolled": true
   },
   "outputs": [
    {
     "name": "stdout",
     "output_type": "stream",
     "text": [
      "Please check \"TOCB2\" miss match records !!!\n",
      "9649         :\n",
      "10504    **:**\n",
      "11266    **:**\n",
      "Name: TOCB2, dtype: object\n",
      "They have already corrected^^\n",
      "9649     None\n",
      "10504    None\n",
      "11266    None\n",
      "Name: TOCB2, dtype: object\n"
     ]
    }
   ],
   "source": [
    "regex = r'^[0-9]|[0-1][0-9]|[2][0-3]:[0-5][0-9]$'\n",
    "missmatchTocb2 = df[~df['TOCB2'].str.contains(regex)]['TOCB2']\n",
    "missmatchTocb2 = missmatchTocb2[~(missmatchTocb2 == '')]\n",
    "if len(missmatchTocb2) > 0:\n",
    "    print('Please check \"TOCB2\" miss match records !!!')\n",
    "    missmatchTocb2Idx = missmatchTocb2.index\n",
    "    print(missmatchTocb2)\n",
    "    df.loc[missmatchTocb2Idx, 'TOCB2'] = None\n",
    "    print('They have already corrected^^')\n",
    "    print(df.loc[missmatchTocb2Idx, 'TOCB2'])\n",
    "else:\n",
    "    print('Pass^^ : All \"TOCB2\" records have already correct')"
   ]
  },
  {
   "cell_type": "markdown",
   "metadata": {},
   "source": [
    "### 3.11 TOCB3"
   ]
  },
  {
   "cell_type": "code",
   "execution_count": 35,
   "metadata": {
    "scrolled": false
   },
   "outputs": [
    {
     "name": "stdout",
     "output_type": "stream",
     "text": [
      "Please check \"TOCB3\" miss match records !!!\n",
      "9342     **:**\n",
      "9394     **:**\n",
      "11604        :\n",
      "Name: TOCB3, dtype: object\n",
      "They have already corrected^^\n",
      "9342     None\n",
      "9394     None\n",
      "11604    None\n",
      "Name: TOCB3, dtype: object\n"
     ]
    }
   ],
   "source": [
    "regex = r'^[0-9]|[0-1][0-9]|[2][0-3]:[0-5][0-9]$'\n",
    "missmatchTocb3 = df[~df['TOCB3'].str.contains(regex)]['TOCB3']\n",
    "missmatchTocb3 = missmatchTocb3[~(missmatchTocb3 == '')]\n",
    "if len(missmatchTocb3) > 0:\n",
    "    print('Please check \"TOCB3\" miss match records !!!')\n",
    "    missmatchTocb3Idx = missmatchTocb3.index\n",
    "    print(missmatchTocb3)\n",
    "    df.loc[missmatchTocb3Idx, 'TOCB3'] = None\n",
    "    print('They have already corrected^^')\n",
    "    print(df.loc[missmatchTocb3Idx, 'TOCB3'])\n",
    "else:\n",
    "    print('Pass^^ : All \"TOCB3\" records have already correct')"
   ]
  },
  {
   "cell_type": "markdown",
   "metadata": {},
   "source": [
    "### 3.12 TOCB4"
   ]
  },
  {
   "cell_type": "code",
   "execution_count": 36,
   "metadata": {
    "scrolled": true
   },
   "outputs": [
    {
     "name": "stdout",
     "output_type": "stream",
     "text": [
      "Please check \"TOCB4\" miss match records !!!\n",
      "2168     **:**\n",
      "2638     **:**\n",
      "3370     **:**\n",
      "10655    **:**\n",
      "Name: TOCB4, dtype: object\n",
      "They have already corrected^^\n",
      "2168     None\n",
      "2638     None\n",
      "3370     None\n",
      "10655    None\n",
      "Name: TOCB4, dtype: object\n"
     ]
    }
   ],
   "source": [
    "regex = r'^[0-9]|[0-1][0-9]|[2][0-3]:[0-5][0-9]$'\n",
    "missmatchTocb4 = df[~df['TOCB4'].str.contains(regex)]['TOCB4']\n",
    "missmatchTocb4 = missmatchTocb4[~(missmatchTocb4 == '')]\n",
    "if len(missmatchTocb4) > 0:\n",
    "    print('Please check \"TOCB4\" miss match records !!!')\n",
    "    missmatchTocb4Idx = missmatchTocb4.index\n",
    "    print(missmatchTocb4)\n",
    "    df.loc[missmatchTocb4Idx, 'TOCB4'] = None\n",
    "    print('They have already corrected^^')\n",
    "    print(df.loc[missmatchTocb4Idx, 'TOCB4'])\n",
    "else:\n",
    "    print('Pass^^ : All \"TOCB4\" records have already correct')"
   ]
  },
  {
   "cell_type": "markdown",
   "metadata": {},
   "source": [
    "### 3.13 NEW_CODE"
   ]
  },
  {
   "cell_type": "code",
   "execution_count": 37,
   "metadata": {},
   "outputs": [],
   "source": [
    "# con.table_names()\n",
    "# df[0:1] -> new_code = '053'\n",
    "# df.loc[0, 'NEW_CODE'] = '053'"
   ]
  },
  {
   "cell_type": "code",
   "execution_count": 38,
   "metadata": {},
   "outputs": [
    {
     "name": "stdout",
     "output_type": "stream",
     "text": [
      "Pass^^ : All \"NEW_CODE\" records have already correct\n"
     ]
    }
   ],
   "source": [
    "# r = con.execute('select * from nw_cause limit 5;').fetchall()\n",
    "# r\n",
    "sql = 'select sub_code from nw_cause'\n",
    "nw_cause_sub_code = pd.read_sql(sql, con).iloc[:, 0].values\n",
    "missmatchNew_code = df[~df['NEW_CODE'].isin(nw_cause_sub_code)]\\\n",
    "                        [['DATE', 'FEEDER', 'FROM', 'LINE', 'CB', 'GROUP', 'DISTRICT', 'NEW_CODE', 'COMPONENT']]\n",
    "if len(missmatchNew_code) > 0:\n",
    "    print('Please check \"NEW_CODE\" miss match records !!!')\n",
    "    print(missmatchNew_code)\n",
    "else:\n",
    "    print('Pass^^ : All \"NEW_CODE\" records have already correct')"
   ]
  },
  {
   "cell_type": "markdown",
   "metadata": {},
   "source": [
    "### 3.14 DISTRICT"
   ]
  },
  {
   "cell_type": "code",
   "execution_count": 39,
   "metadata": {},
   "outputs": [],
   "source": [
    "# pd.crosstab(df['DISTRICT'], columns='COUNT')\n",
    "# df[~df['DISTRICT'].isin(range(1,19))]['EVENT'].unique()\n",
    "# df[df['EVENT']=='S']\n",
    "# 15\n",
    "# df.loc[0, 'DISTRICT'] = 15"
   ]
  },
  {
   "cell_type": "code",
   "execution_count": 40,
   "metadata": {},
   "outputs": [
    {
     "name": "stdout",
     "output_type": "stream",
     "text": [
      "Pass^^ : All \"DISTRICT\" records have already correct\n"
     ]
    }
   ],
   "source": [
    "missmatchDistrict = df[~df['DISTRICT'].isin(range(1,19)) & df['EVENT'].isin(['I', 'O'])]\\\n",
    "                        [['DATE', 'FEEDER', 'FROM', 'LINE', 'CB', 'GROUP', 'DISTRICT', 'NEW_CODE', 'COMPONENT']]\n",
    "len(missmatchDistrict)\n",
    "if len(missmatchDistrict) > 0:\n",
    "    print('Please check \"DISTRICT\" miss match records !!!')\n",
    "    print(missmatchDistrict)\n",
    "else:\n",
    "    print('Pass^^ : All \"DISTRICT\" records have already correct')"
   ]
  },
  {
   "cell_type": "markdown",
   "metadata": {},
   "source": [
    "### 3.15 COMPONENT"
   ]
  },
  {
   "cell_type": "code",
   "execution_count": 41,
   "metadata": {},
   "outputs": [],
   "source": [
    "# df.loc[0, 'COMPONENT'] = 'C22' # 'C22'"
   ]
  },
  {
   "cell_type": "code",
   "execution_count": 42,
   "metadata": {},
   "outputs": [
    {
     "name": "stdout",
     "output_type": "stream",
     "text": [
      "Pass^^ : All \"COMPONENT\" records have already correct\n"
     ]
    }
   ],
   "source": [
    "sql = 'select code from component'\n",
    "component_code = pd.read_sql(sql, con).iloc[:, 0]\n",
    "missmatchComponent = df[~((df['COMPONENT'].isin(component_code)) | (df['COMPONENT'] == ''))]\\\n",
    "                        [['DATE', 'FEEDER', 'FROM', 'LINE', 'CB', 'GROUP', 'DISTRICT', 'NEW_CODE', 'COMPONENT']]\n",
    "if len(missmatchComponent) > 0:\n",
    "    print('Please check \"COMPONENT\" miss match records !!!')\n",
    "    print(missmatchComponent)\n",
    "else:\n",
    "    print('Pass^^ : All \"COMPONENT\" records have already correct')"
   ]
  },
  {
   "cell_type": "markdown",
   "metadata": {},
   "source": [
    "### 3.16 OLD_DISTRI"
   ]
  },
  {
   "cell_type": "code",
   "execution_count": 43,
   "metadata": {},
   "outputs": [
    {
     "name": "stdout",
     "output_type": "stream",
     "text": [
      "Please check \"OLD_DISTRI\" missing value records !!!\n",
      "Int64Index([    0,     1,     2,     3,     4,     5,     6,     7,     8,\n",
      "                9,\n",
      "            ...\n",
      "            13916, 13917, 13918, 13919, 13920, 13921, 13922, 13923, 13924,\n",
      "            13925],\n",
      "           dtype='int64', length=13925)\n",
      "They have already corrected^^\n",
      "0.0    13925\n",
      "Name: OLD_DISTRI, dtype: int64\n"
     ]
    }
   ],
   "source": [
    "# df['OLD_DISTRI'].unique()\n",
    "missingValueOldDistrictIdx = df[df['OLD_DISTRI'].isna()].index\n",
    "if len(missingValueOldDistrictIdx) > 0:\n",
    "    print('Please check \"OLD_DISTRI\" missing value records !!!')\n",
    "    print(missingValueOldDistrictIdx)\n",
    "    df.loc[missingValueOldDistrictIdx, 'OLD_DISTRI'] = 0\n",
    "    print('They have already corrected^^')\n",
    "    print(df.loc[missingValueOldDistrictIdx, 'OLD_DISTRI'].value_counts())\n",
    "else:\n",
    "    print('Pass^^ : All \"OLD_DISTRI\" records have already correct')\n",
    "\n",
    "df['OLD_DISTRI'] = df['OLD_DISTRI'].astype('int', errors='ignore')"
   ]
  },
  {
   "cell_type": "markdown",
   "metadata": {},
   "source": [
    "### 3.17 NEPO_GROUP  "
   ]
  },
  {
   "cell_type": "code",
   "execution_count": 44,
   "metadata": {},
   "outputs": [
    {
     "name": "stdout",
     "output_type": "stream",
     "text": [
      "Please check \"NEPO_GROUP\" missing value records !!!\n",
      "Int64Index([4979, 4980, 4981, 4982, 4983, 4984, 4985, 4986, 4987, 4988, 4989,\n",
      "            4990, 4991, 4992, 4993, 4994, 4995, 4996, 4997, 4998, 4999, 5000,\n",
      "            5001, 5002, 5003, 5004, 5005, 5006, 5007, 5008, 5009, 5010, 5011,\n",
      "            5012, 5013, 5014, 5015, 5016],\n",
      "           dtype='int64')\n",
      "They have already corrected^^\n",
      "0.0    38\n",
      "Name: NEPO_GROUP, dtype: int64\n"
     ]
    }
   ],
   "source": [
    "df['NEPO_GROUP'].unique()\n",
    "# df['NEPO_GROUP'].unique()\n",
    "missingValueNepoGroupIdx = df[df['NEPO_GROUP'].isna()].index\n",
    "if len(missingValueNepoGroupIdx) > 0:\n",
    "    print('Please check \"NEPO_GROUP\" missing value records !!!')\n",
    "    print(missingValueNepoGroupIdx)\n",
    "    df.loc[missingValueNepoGroupIdx, 'NEPO_GROUP'] = 0\n",
    "    print('They have already corrected^^')\n",
    "    print(df.loc[missingValueNepoGroupIdx, 'NEPO_GROUP'].value_counts())\n",
    "else:\n",
    "    print('Pass^^ : All \"NEPO_GROUP\" records have already correct')\n",
    "\n",
    "df['NEPO_GROUP'] = df['NEPO_GROUP'].astype('int', errors='ignore')"
   ]
  },
  {
   "cell_type": "markdown",
   "metadata": {},
   "source": [
    "### 3.18 KV"
   ]
  },
  {
   "cell_type": "code",
   "execution_count": 45,
   "metadata": {
    "scrolled": false
   },
   "outputs": [
    {
     "name": "stdout",
     "output_type": "stream",
     "text": [
      "      FEEDER     LINE       CB  KV GROUP\n",
      "8136                   BRY7912 NaN     S\n",
      "10304                   BTR413 NaN     S\n",
      "10308                   BTR413 NaN     S\n",
      "10837                   WKS412 NaN     S\n",
      "10839                    WKS27 NaN     S\n",
      "13168         CLT-964  CLT6942 NaN     L\n",
      "      FEEDER     LINE       CB     KV GROUP\n",
      "8136                   BRY7912  115.0     S\n",
      "10304                   BTR413   24.0     S\n",
      "10308                   BTR413   24.0     S\n",
      "10837                   WKS412   24.0     S\n",
      "10839                    WKS27   12.0     S\n",
      "13168         CLT-964  CLT6942   69.0     L\n"
     ]
    }
   ],
   "source": [
    "kvValue = {2: 12, 4: 24, 6: 69, 7: 115}\n",
    "\n",
    "rows = df[df['KV'].isna()][['FEEDER', 'LINE', 'CB', 'KV', 'GROUP']]\n",
    "rowsIdx = rows.index\n",
    "print(rows)\n",
    "for idx, row in rows.iterrows():\n",
    "    df.loc[idx, 'KV'] = kvValue[int(row['CB'][3])] if row['CB'][3] != 'C' else kvValue[int(row['CB'][4])]\n",
    "\n",
    "print(df.loc[rowsIdx, ['FEEDER', 'LINE', 'CB', 'KV', 'GROUP']])\n",
    "df['KV'] = df['KV'].astype('int', errors='ignore')"
   ]
  },
  {
   "cell_type": "markdown",
   "metadata": {},
   "source": [
    "### 3.19 CONTROL"
   ]
  },
  {
   "cell_type": "code",
   "execution_count": 46,
   "metadata": {},
   "outputs": [
    {
     "name": "stdout",
     "output_type": "stream",
     "text": [
      "Pass^^ : All \"CONTROL\" records have already correct\n"
     ]
    }
   ],
   "source": [
    "missmatchControl = df[(df['CONTROL'] == '') | (df['CONTROL'].isna())]\\\n",
    "                        [['DATE', 'FEEDER', 'FROM', 'LINE', 'CB', 'GROUP', 'NEW_CODE', 'COMPONENT', 'CONTROL']]\n",
    "if len(missmatchControl) > 0:\n",
    "    print('Please check \"CONTROL\" miss match records !!!')\n",
    "    print(missmatchControl)\n",
    "else:\n",
    "    print('Pass^^ : All \"CONTROL\" records have already correct')"
   ]
  },
  {
   "cell_type": "markdown",
   "metadata": {},
   "source": [
    "## 4. Replace all '' with NaN"
   ]
  },
  {
   "cell_type": "code",
   "execution_count": 47,
   "metadata": {},
   "outputs": [],
   "source": [
    "df.replace(r'^\\s*$', np.nan, regex=True, inplace=True)"
   ]
  },
  {
   "cell_type": "markdown",
   "metadata": {},
   "source": [
    "## 5. Export and check to MySQL"
   ]
  },
  {
   "cell_type": "code",
   "execution_count": 48,
   "metadata": {
    "scrolled": true
   },
   "outputs": [
    {
     "name": "stdout",
     "output_type": "stream",
     "text": [
      "<class 'pandas.core.frame.DataFrame'>\n",
      "RangeIndex: 13926 entries, 0 to 13925\n",
      "Data columns (total 70 columns):\n",
      " #   Column      Non-Null Count  Dtype         \n",
      "---  ------      --------------  -----         \n",
      " 0   ID          13926 non-null  int64         \n",
      " 1   DATE        13926 non-null  datetime64[ns]\n",
      " 2   DAY         13926 non-null  int64         \n",
      " 3   MONTH       13926 non-null  int64         \n",
      " 4   NEW_MONTH   13926 non-null  int64         \n",
      " 5   NEW_MONTH2  13926 non-null  int64         \n",
      " 6   YEAR        13926 non-null  int64         \n",
      " 7   DOW         13926 non-null  int64         \n",
      " 8   TYPE_DAY    0 non-null      float64       \n",
      " 9   WEATHER     13926 non-null  object        \n",
      " 10  TEMPERATUR  13926 non-null  object        \n",
      " 11  SEASON      0 non-null      float64       \n",
      " 12  ABB         13922 non-null  object        \n",
      " 13  FEEDER      13627 non-null  object        \n",
      " 14  AREA        13926 non-null  object        \n",
      " 15  NIKOM       13926 non-null  object        \n",
      " 16  LINE        3243 non-null   object        \n",
      " 17  CB          3320 non-null   object        \n",
      " 18  TYPE_LINE   0 non-null      float64       \n",
      " 19  ABNORMAL    0 non-null      float64       \n",
      " 20  KV          13926 non-null  int32         \n",
      " 21  UNIT        13847 non-null  object        \n",
      " 22  EVENT       13926 non-null  object        \n",
      " 23  FROM        13926 non-null  object        \n",
      " 24  TO          13923 non-null  object        \n",
      " 25  PERIOD      0 non-null      float64       \n",
      " 26  TO_DATE     10763 non-null  datetime64[ns]\n",
      " 27  AMP         13926 non-null  int64         \n",
      " 28  NAMP        13926 non-null  int64         \n",
      " 29  TO1         3538 non-null   object        \n",
      " 30  TO2         183 non-null    object        \n",
      " 31  TO3         78 non-null     object        \n",
      " 32  TO4         25 non-null     object        \n",
      " 33  AMP1        13926 non-null  object        \n",
      " 34  AMP2        13926 non-null  object        \n",
      " 35  AMP3        13926 non-null  object        \n",
      " 36  AMP4        13926 non-null  object        \n",
      " 37  TOCB1       432 non-null    object        \n",
      " 38  TOCB_DATE   10758 non-null  datetime64[ns]\n",
      " 39  TOCB2       174 non-null    object        \n",
      " 40  TOCB3       54 non-null     object        \n",
      " 41  TOCB4       12 non-null     object        \n",
      " 42  NEW_CODE    13926 non-null  object        \n",
      " 43  GROUP       13926 non-null  object        \n",
      " 44  CODE        13850 non-null  object        \n",
      " 45  TYPE        13926 non-null  object        \n",
      " 46  NEPO_GROUP  13926 non-null  int32         \n",
      " 47  OLD_DISTRI  13926 non-null  int32         \n",
      " 48  DISTRICT    13926 non-null  int64         \n",
      " 49  POLE        666 non-null    object        \n",
      " 50  LATERAL     7079 non-null   object        \n",
      " 51  ROAD        912 non-null    object        \n",
      " 52  RELAY       12948 non-null  object        \n",
      " 53  COMPONENT   7361 non-null   object        \n",
      " 54  DEVICE      0 non-null      float64       \n",
      " 55  DEV_TYPE    0 non-null      float64       \n",
      " 56  PHASE       7524 non-null   object        \n",
      " 57  FAULT_TYPE  0 non-null      float64       \n",
      " 58  TIMES       0 non-null      float64       \n",
      " 59  LENGTH      13926 non-null  object        \n",
      " 60  TIMEOCB     13926 non-null  int64         \n",
      " 61  TIMEFUSE    13926 non-null  int64         \n",
      " 62  TIMEREPAIR  13926 non-null  object        \n",
      " 63  KVA_HR      13926 non-null  int64         \n",
      " 64  LOSS        13926 non-null  int64         \n",
      " 65  MW          13926 non-null  object        \n",
      " 66  BATH        13926 non-null  float64       \n",
      " 67  TIME_EQ     13926 non-null  float64       \n",
      " 68  MAJOR       0 non-null      float64       \n",
      " 69  CONTROL     13926 non-null  object        \n",
      "dtypes: datetime64[ns](3), float64(12), int32(3), int64(14), object(38)\n",
      "memory usage: 7.3+ MB\n"
     ]
    }
   ],
   "source": [
    "df.info()"
   ]
  },
  {
   "cell_type": "code",
   "execution_count": 49,
   "metadata": {
    "scrolled": true
   },
   "outputs": [
    {
     "data": {
      "text/plain": [
       "Index(['id', 'date', 'day', 'month', 'new_month', 'new_month2', 'year', 'dow',\n",
       "       'type_day', 'weather', 'temperatur', 'season', 'abb', 'feeder', 'area',\n",
       "       'nikom', 'line', 'cb', 'type_line', 'abnormal', 'kv', 'unit', 'event',\n",
       "       'time_from', 'time_to', 'period', 'to_date', 'amp', 'namp', 'to1',\n",
       "       'to2', 'to3', 'to4', 'amp1', 'amp2', 'amp3', 'amp4', 'tocb1',\n",
       "       'tocb_date', 'tocb2', 'tocb3', 'tocb4', 'new_code', 'group_type',\n",
       "       'code', 'type', 'nepo_group', 'old_distri', 'district', 'pole',\n",
       "       'lateral', 'road', 'relay', 'component', 'device', 'dev_type', 'phase',\n",
       "       'fault_type', 'times', 'length', 'timeocb', 'timefuse', 'timerepair',\n",
       "       'kva_hr', 'loss', 'mw', 'bath', 'time_eq', 'major', 'control'],\n",
       "      dtype='object')"
      ]
     },
     "execution_count": 49,
     "metadata": {},
     "output_type": "execute_result"
    }
   ],
   "source": [
    "# Replace field names\n",
    "df.columns = pd.read_sql('select * from outage_event_db limit 1', con).columns[1:]\n",
    "df.columns"
   ]
  },
  {
   "cell_type": "code",
   "execution_count": 50,
   "metadata": {},
   "outputs": [],
   "source": [
    "def insertToDB(month, tableName):\n",
    "    try:\n",
    "        print()\n",
    "        print(f'Insert data to \"{tableName}\" table')\n",
    "        df[df['month'] == month].to_sql(tableName, con, if_exists='append', index=False)\n",
    "        print('Success^^')\n",
    "    except:\n",
    "        print(\"May be data error then they can't be imported to MySQL !!!\")\n",
    "        raise"
   ]
  },
  {
   "cell_type": "code",
   "execution_count": 51,
   "metadata": {},
   "outputs": [],
   "source": [
    "def checkNumberRecords(month, tableName):\n",
    "    rawDataRecords = df[(df['date'].dt.year == int(yearSelected)) & (df['date'].dt.month == month)]['date'].count()\n",
    "    print(f'Raw {yearSelected}/{month} data records : {rawDataRecords}')\n",
    "    sql = f'select count(*) from {tableName} where year(date)={yearSelected} and month(date)={month}'\n",
    "    dbDataRecords = con.execute(sql).fetchall()[0][0]\n",
    "    print()\n",
    "    print('Check number of records')\n",
    "    print(f'{tableName} table {yearSelected}/{month} data records : {dbDataRecords}')\n",
    "    if rawDataRecords == dbDataRecords:\n",
    "        print(f'Successfully append to {tableName} ^^')\n",
    "    else:\n",
    "        print()\n",
    "        print(f'Unsuccessfullt append to {tableName}, please resolve errors !!!')\n",
    "        sqlDel = f'delete from {tableName} where year(date)={yearSelected} and month(date)={month}'\n",
    "        con.execute(sqlDel)\n",
    "        print(f'Delete false imported data of {tableName} table {yearSelected}/{month} already !')"
   ]
  },
  {
   "cell_type": "code",
   "execution_count": 55,
   "metadata": {},
   "outputs": [
    {
     "name": "stdout",
     "output_type": "stream",
     "text": [
      "Please type 1 or 2 for selecting table to dump\n",
      "\t1 to outage_event_db\n",
      "\t2 to outage_event_db_15days\n",
      "Select table here : 2\n",
      "\n",
      "Please select month between 1 to 12\n",
      "Select table here : 10\n",
      "\n",
      "Insert data to \"outage_event_db_15days\" table\n",
      "Success^^\n",
      "Raw 2020/10 data records : 1329\n",
      "\n",
      "Check number of records\n",
      "outage_event_db_15days table 2020/10 data records : 1329\n",
      "Successfully append to outage_event_db_15days ^^\n"
     ]
    }
   ],
   "source": [
    "tableNames = {1: 'outage_event_db', 2: 'outage_event_db_15days'}\n",
    "selectTable = int(input(\n",
    "'''Please type 1 or 2 for selecting table to dump\n",
    "\\t1 to outage_event_db\n",
    "\\t2 to outage_event_db_15days\n",
    "Select table here : ''') or '0')\n",
    "print()\n",
    "if selectTable > 0 and selectTable < 3:\n",
    "    selectMonth = int(input('Please select month between 1 to 12\\nSelect table here : ') or '0')\n",
    "    if selectMonth > 0 and selectMonth < 13:\n",
    "        insertToDB(selectMonth, tableNames[selectTable])\n",
    "        checkNumberRecords(selectMonth, tableNames[selectTable])\n",
    "        selectTable = None\n",
    "        selectMonth = None\n",
    "    else:\n",
    "        print('Please run this cell again then select month between 1 or 12 !!!')\n",
    "else:\n",
    "    print('Please run this cell again then select only 1 or 2 !!!')"
   ]
  },
  {
   "cell_type": "markdown",
   "metadata": {},
   "source": [
    "## Addition"
   ]
  },
  {
   "cell_type": "markdown",
   "metadata": {},
   "source": [
    "### Check lasted date data in outage_event_db or outage_event_db_15days"
   ]
  },
  {
   "cell_type": "code",
   "execution_count": 54,
   "metadata": {},
   "outputs": [
    {
     "name": "stdout",
     "output_type": "stream",
     "text": [
      "Please type 1 or 2 for selecting table to dump\n",
      "\t1 to outage_event_db\n",
      "\t2 to outage_event_db_15days\n",
      "Select table here : 1\n",
      "\n",
      "Lasted date of outage_event_db table (y-m-d) : 2020-09-30\n"
     ]
    }
   ],
   "source": [
    "tableNames = {1: 'outage_event_db', 2: 'outage_event_db_15days'}\n",
    "selectTable = int(input(\n",
    "'''Please type 1 or 2 for selecting table to dump\n",
    "\\t1 to outage_event_db\n",
    "\\t2 to outage_event_db_15days\n",
    "Select table here : ''') or '0')\n",
    "print()\n",
    "if selectTable > 0 and selectTable < 3:\n",
    "    sql = f'select date from {tableNames[selectTable]} order by date desc limit 1'\n",
    "    print(f'Lasted date of {tableNames[selectTable]} table (y-m-d) : {con.execute(sql).fetchall()[0][0]}')\n",
    "else:\n",
    "    print('Please run this cell again then select only 1 or 2 !!!')"
   ]
  },
  {
   "cell_type": "code",
   "execution_count": null,
   "metadata": {},
   "outputs": [],
   "source": []
  }
 ],
 "metadata": {
  "kernelspec": {
   "display_name": "Python 3",
   "language": "python",
   "name": "python3"
  },
  "language_info": {
   "codemirror_mode": {
    "name": "ipython",
    "version": 3
   },
   "file_extension": ".py",
   "mimetype": "text/x-python",
   "name": "python",
   "nbconvert_exporter": "python",
   "pygments_lexer": "ipython3",
   "version": "3.7.6"
  },
  "toc": {
   "base_numbering": 1,
   "nav_menu": {},
   "number_sections": true,
   "sideBar": true,
   "skip_h1_title": false,
   "title_cell": "Table of Contents",
   "title_sidebar": "Contents",
   "toc_cell": false,
   "toc_position": {},
   "toc_section_display": true,
   "toc_window_display": true
  }
 },
 "nbformat": 4,
 "nbformat_minor": 4
}

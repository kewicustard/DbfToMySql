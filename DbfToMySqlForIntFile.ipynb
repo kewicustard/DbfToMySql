{
 "cells": [
  {
   "cell_type": "markdown",
   "metadata": {},
   "source": [
    "# DBF file to MySQL for Int File"
   ]
  },
  {
   "cell_type": "markdown",
   "metadata": {},
   "source": [
    "## 1. Load DBF to Pandas DataFrame"
   ]
  },
  {
   "cell_type": "code",
   "execution_count": 33,
   "metadata": {},
   "outputs": [
    {
     "name": "stdout",
     "output_type": "stream",
     "text": [
      "pandas version: 1.0.1\n"
     ]
    }
   ],
   "source": [
    "from datetime import datetime\n",
    "import pandas as pd\n",
    "import numpy as np\n",
    "print(f'pandas version: {pd.__version__}')\n",
    "\n",
    "pd.set_option('max_columns', 500)\n",
    "# pd.set_option('max_rows', 10)"
   ]
  },
  {
   "cell_type": "code",
   "execution_count": 2,
   "metadata": {},
   "outputs": [],
   "source": [
    "\"\"\"\n",
    "Load content of a DBF file into a Pandas data frame.\n",
    "\n",
    "The iter() is required because Pandas doesn't detect that the DBF\n",
    "object is iterable.\n",
    "\"\"\"\n",
    "\n",
    "from dbfread import DBF"
   ]
  },
  {
   "cell_type": "code",
   "execution_count": 3,
   "metadata": {
    "scrolled": true
   },
   "outputs": [
    {
     "name": "stdout",
     "output_type": "stream",
     "text": [
      "Please enter path for int file (default as G:/relia/custbase/): \n",
      "Please insert year (default as this year) : \n",
      "Path : G:/relia/custbase/\n",
      "Year : 2020\n",
      "\n",
      "Full path : G:/relia/custbase/int_2020.dbf\n"
     ]
    }
   ],
   "source": [
    "setPath = input('Please enter path for int file (default as G:/relia/custbase/): ') or 'G:/relia/custbase/'\n",
    "yearSelected = input('Please insert year (default as this year) : ') or str(datetime.now().year)\n",
    "print(f'Path : {setPath}')\n",
    "print(f'Year : {yearSelected}')\n",
    "fullPath = setPath + 'int_'+ yearSelected +'.dbf'\n",
    "print(f'\\nFull path : {fullPath}')"
   ]
  },
  {
   "cell_type": "code",
   "execution_count": 4,
   "metadata": {},
   "outputs": [],
   "source": [
    "dbf = DBF(fullPath)\n",
    "df = pd.DataFrame(iter(dbf))"
   ]
  },
  {
   "cell_type": "code",
   "execution_count": 5,
   "metadata": {
    "scrolled": false
   },
   "outputs": [
    {
     "data": {
      "text/html": [
       "<div>\n",
       "<style scoped>\n",
       "    .dataframe tbody tr th:only-of-type {\n",
       "        vertical-align: middle;\n",
       "    }\n",
       "\n",
       "    .dataframe tbody tr th {\n",
       "        vertical-align: top;\n",
       "    }\n",
       "\n",
       "    .dataframe thead th {\n",
       "        text-align: right;\n",
       "    }\n",
       "</style>\n",
       "<table border=\"1\" class=\"dataframe\">\n",
       "  <thead>\n",
       "    <tr style=\"text-align: right;\">\n",
       "      <th></th>\n",
       "      <th>ID</th>\n",
       "      <th>DATE</th>\n",
       "      <th>NEW_MONTH</th>\n",
       "      <th>FROM</th>\n",
       "      <th>TO</th>\n",
       "      <th>ABB</th>\n",
       "      <th>FEEDER</th>\n",
       "      <th>LINE</th>\n",
       "      <th>CB</th>\n",
       "      <th>TIMEOCB</th>\n",
       "      <th>GROUP</th>\n",
       "      <th>EVENT</th>\n",
       "      <th>OUTGDIST</th>\n",
       "      <th>CUSTDIST</th>\n",
       "      <th>AREA</th>\n",
       "      <th>NIKOM</th>\n",
       "      <th>TYPE</th>\n",
       "      <th>NEW_CODE</th>\n",
       "      <th>RELAY</th>\n",
       "      <th>COMPONENT</th>\n",
       "      <th>ROAD</th>\n",
       "      <th>LATERAL</th>\n",
       "      <th>TIME_EQ</th>\n",
       "      <th>CUST_NUM</th>\n",
       "      <th>CUST_MIN</th>\n",
       "      <th>MAJOR</th>\n",
       "      <th>CONTROL</th>\n",
       "      <th>WEATHER</th>\n",
       "      <th>BK</th>\n",
       "      <th>BK_MIN</th>\n",
       "      <th>SP</th>\n",
       "      <th>SP_MIN</th>\n",
       "      <th>NB</th>\n",
       "      <th>NB_MIN</th>\n",
       "    </tr>\n",
       "  </thead>\n",
       "  <tbody>\n",
       "    <tr>\n",
       "      <th>14641</th>\n",
       "      <td>774.0</td>\n",
       "      <td>2020-10-18</td>\n",
       "      <td>10</td>\n",
       "      <td>19:24</td>\n",
       "      <td>19:24</td>\n",
       "      <td>PA</td>\n",
       "      <td>PA-424</td>\n",
       "      <td></td>\n",
       "      <td></td>\n",
       "      <td>0</td>\n",
       "      <td>F</td>\n",
       "      <td>O</td>\n",
       "      <td>1</td>\n",
       "      <td>1</td>\n",
       "      <td>C</td>\n",
       "      <td>N</td>\n",
       "      <td>CO</td>\n",
       "      <td>191</td>\n",
       "      <td>OCI,EFI,RR</td>\n",
       "      <td>C07</td>\n",
       "      <td></td>\n",
       "      <td>HT.33-01632</td>\n",
       "      <td>0.0</td>\n",
       "      <td>2468.0</td>\n",
       "      <td>0.0</td>\n",
       "      <td></td>\n",
       "      <td>U</td>\n",
       "      <td>N</td>\n",
       "      <td>2468.0</td>\n",
       "      <td>0.0</td>\n",
       "      <td>0.0</td>\n",
       "      <td>0.0</td>\n",
       "      <td>0.0</td>\n",
       "      <td>0.0</td>\n",
       "    </tr>\n",
       "    <tr>\n",
       "      <th>14642</th>\n",
       "      <td>775.0</td>\n",
       "      <td>2020-10-18</td>\n",
       "      <td>10</td>\n",
       "      <td>20:22</td>\n",
       "      <td>20:22</td>\n",
       "      <td>KU</td>\n",
       "      <td>KU-427</td>\n",
       "      <td></td>\n",
       "      <td></td>\n",
       "      <td>0</td>\n",
       "      <td>F</td>\n",
       "      <td>I</td>\n",
       "      <td>7</td>\n",
       "      <td>7</td>\n",
       "      <td>C</td>\n",
       "      <td>N</td>\n",
       "      <td>TF</td>\n",
       "      <td>011</td>\n",
       "      <td>OCI-B,EFI,RR</td>\n",
       "      <td></td>\n",
       "      <td></td>\n",
       "      <td></td>\n",
       "      <td>0.0</td>\n",
       "      <td>4786.0</td>\n",
       "      <td>0.0</td>\n",
       "      <td></td>\n",
       "      <td>C</td>\n",
       "      <td>N</td>\n",
       "      <td>3336.0</td>\n",
       "      <td>0.0</td>\n",
       "      <td>1450.0</td>\n",
       "      <td>0.0</td>\n",
       "      <td>0.0</td>\n",
       "      <td>0.0</td>\n",
       "    </tr>\n",
       "    <tr>\n",
       "      <th>14643</th>\n",
       "      <td>776.0</td>\n",
       "      <td>2020-10-18</td>\n",
       "      <td>10</td>\n",
       "      <td>23:10</td>\n",
       "      <td>23:10</td>\n",
       "      <td>CK</td>\n",
       "      <td>CK-424</td>\n",
       "      <td></td>\n",
       "      <td></td>\n",
       "      <td>0</td>\n",
       "      <td>F</td>\n",
       "      <td>I</td>\n",
       "      <td>14</td>\n",
       "      <td>14</td>\n",
       "      <td>C</td>\n",
       "      <td>N</td>\n",
       "      <td>TF</td>\n",
       "      <td>053</td>\n",
       "      <td>OCI-T-Y,EFI-T,RR</td>\n",
       "      <td>C07</td>\n",
       "      <td></td>\n",
       "      <td>SOI LARDPHRAO 1/18</td>\n",
       "      <td>0.0</td>\n",
       "      <td>4940.0</td>\n",
       "      <td>0.0</td>\n",
       "      <td></td>\n",
       "      <td>C</td>\n",
       "      <td>N</td>\n",
       "      <td>4940.0</td>\n",
       "      <td>0.0</td>\n",
       "      <td>0.0</td>\n",
       "      <td>0.0</td>\n",
       "      <td>0.0</td>\n",
       "      <td>0.0</td>\n",
       "    </tr>\n",
       "    <tr>\n",
       "      <th>14644</th>\n",
       "      <td>777.0</td>\n",
       "      <td>2020-10-18</td>\n",
       "      <td>10</td>\n",
       "      <td>23:53</td>\n",
       "      <td>23:53</td>\n",
       "      <td>SS</td>\n",
       "      <td>SS-425</td>\n",
       "      <td></td>\n",
       "      <td></td>\n",
       "      <td>0</td>\n",
       "      <td>F</td>\n",
       "      <td>I</td>\n",
       "      <td>1</td>\n",
       "      <td>1</td>\n",
       "      <td>C</td>\n",
       "      <td>N</td>\n",
       "      <td>TF</td>\n",
       "      <td>011</td>\n",
       "      <td>OCI-T-Y,EFI-T,RR</td>\n",
       "      <td></td>\n",
       "      <td></td>\n",
       "      <td></td>\n",
       "      <td>0.0</td>\n",
       "      <td>2939.0</td>\n",
       "      <td>0.0</td>\n",
       "      <td></td>\n",
       "      <td>C</td>\n",
       "      <td>N</td>\n",
       "      <td>2939.0</td>\n",
       "      <td>0.0</td>\n",
       "      <td>0.0</td>\n",
       "      <td>0.0</td>\n",
       "      <td>0.0</td>\n",
       "      <td>0.0</td>\n",
       "    </tr>\n",
       "    <tr>\n",
       "      <th>14645</th>\n",
       "      <td>777.0</td>\n",
       "      <td>2020-10-18</td>\n",
       "      <td>10</td>\n",
       "      <td>23:53</td>\n",
       "      <td>23:53</td>\n",
       "      <td>SS</td>\n",
       "      <td>SS-425</td>\n",
       "      <td></td>\n",
       "      <td></td>\n",
       "      <td>0</td>\n",
       "      <td>F</td>\n",
       "      <td>I</td>\n",
       "      <td>1</td>\n",
       "      <td>8</td>\n",
       "      <td>C</td>\n",
       "      <td>N</td>\n",
       "      <td>TF</td>\n",
       "      <td>011</td>\n",
       "      <td>OCI-T-Y,EFI-T,RR</td>\n",
       "      <td></td>\n",
       "      <td></td>\n",
       "      <td></td>\n",
       "      <td>0.0</td>\n",
       "      <td>4233.0</td>\n",
       "      <td>0.0</td>\n",
       "      <td></td>\n",
       "      <td>C</td>\n",
       "      <td>N</td>\n",
       "      <td>4233.0</td>\n",
       "      <td>0.0</td>\n",
       "      <td>0.0</td>\n",
       "      <td>0.0</td>\n",
       "      <td>0.0</td>\n",
       "      <td>0.0</td>\n",
       "    </tr>\n",
       "  </tbody>\n",
       "</table>\n",
       "</div>"
      ],
      "text/plain": [
       "          ID        DATE  NEW_MONTH   FROM     TO ABB  FEEDER LINE CB  \\\n",
       "14641  774.0  2020-10-18         10  19:24  19:24  PA  PA-424           \n",
       "14642  775.0  2020-10-18         10  20:22  20:22  KU  KU-427           \n",
       "14643  776.0  2020-10-18         10  23:10  23:10  CK  CK-424           \n",
       "14644  777.0  2020-10-18         10  23:53  23:53  SS  SS-425           \n",
       "14645  777.0  2020-10-18         10  23:53  23:53  SS  SS-425           \n",
       "\n",
       "       TIMEOCB GROUP EVENT  OUTGDIST  CUSTDIST AREA NIKOM TYPE NEW_CODE  \\\n",
       "14641        0     F     O         1         1    C     N   CO      191   \n",
       "14642        0     F     I         7         7    C     N   TF      011   \n",
       "14643        0     F     I        14        14    C     N   TF      053   \n",
       "14644        0     F     I         1         1    C     N   TF      011   \n",
       "14645        0     F     I         1         8    C     N   TF      011   \n",
       "\n",
       "                  RELAY COMPONENT ROAD             LATERAL  TIME_EQ  CUST_NUM  \\\n",
       "14641        OCI,EFI,RR       C07              HT.33-01632      0.0    2468.0   \n",
       "14642      OCI-B,EFI,RR                                         0.0    4786.0   \n",
       "14643  OCI-T-Y,EFI-T,RR       C07       SOI LARDPHRAO 1/18      0.0    4940.0   \n",
       "14644  OCI-T-Y,EFI-T,RR                                         0.0    2939.0   \n",
       "14645  OCI-T-Y,EFI-T,RR                                         0.0    4233.0   \n",
       "\n",
       "       CUST_MIN MAJOR CONTROL WEATHER      BK  BK_MIN      SP  SP_MIN   NB  \\\n",
       "14641       0.0             U       N  2468.0     0.0     0.0     0.0  0.0   \n",
       "14642       0.0             C       N  3336.0     0.0  1450.0     0.0  0.0   \n",
       "14643       0.0             C       N  4940.0     0.0     0.0     0.0  0.0   \n",
       "14644       0.0             C       N  2939.0     0.0     0.0     0.0  0.0   \n",
       "14645       0.0             C       N  4233.0     0.0     0.0     0.0  0.0   \n",
       "\n",
       "       NB_MIN  \n",
       "14641     0.0  \n",
       "14642     0.0  \n",
       "14643     0.0  \n",
       "14644     0.0  \n",
       "14645     0.0  "
      ]
     },
     "execution_count": 5,
     "metadata": {},
     "output_type": "execute_result"
    }
   ],
   "source": [
    "total_records = df.shape[0]\n",
    "df.tail()"
   ]
  },
  {
   "cell_type": "markdown",
   "metadata": {},
   "source": [
    "## - Import module for connecting to MySQL"
   ]
  },
  {
   "cell_type": "code",
   "execution_count": 6,
   "metadata": {},
   "outputs": [],
   "source": [
    "from sqlalchemy import create_engine # conda install sqlalchemy\n",
    "import pymysql # conda install pymysql"
   ]
  },
  {
   "cell_type": "code",
   "execution_count": 7,
   "metadata": {
    "scrolled": true
   },
   "outputs": [
    {
     "name": "stdout",
     "output_type": "stream",
     "text": [
      "pymysql version: 0.10.1\n"
     ]
    }
   ],
   "source": [
    "print(f'pymysql version: {pymysql.__version__}')"
   ]
  },
  {
   "cell_type": "markdown",
   "metadata": {},
   "source": [
    "### - create a connection to MySQL"
   ]
  },
  {
   "cell_type": "code",
   "execution_count": 8,
   "metadata": {},
   "outputs": [
    {
     "name": "stdout",
     "output_type": "stream",
     "text": [
      "connection string = mysql+pymysql://root:@localhost:3306/statistics_database\n"
     ]
    }
   ],
   "source": [
    "# uid = 'reliability'\n",
    "# pwd = 'pcd_db'\n",
    "# host = '10.99.1.36'\n",
    "# uid = 'root'\n",
    "# pwd = 'admin'\n",
    "# host = 'localhost'\n",
    "uid = 'root'\n",
    "pwd = ''\n",
    "host = 'localhost'\n",
    "port = 3306\n",
    "db = 'statistics_database'\n",
    "con_string = f'mysql+pymysql://{uid}:{pwd}@{host}:{port}/{db}'\n",
    "print(f'connection string = {con_string}')\n",
    "con = create_engine(con_string)"
   ]
  },
  {
   "cell_type": "code",
   "execution_count": 12,
   "metadata": {
    "scrolled": true
   },
   "outputs": [],
   "source": [
    "# con.table_names()"
   ]
  },
  {
   "cell_type": "markdown",
   "metadata": {},
   "source": [
    "## 2. Change data type in each fields"
   ]
  },
  {
   "cell_type": "code",
   "execution_count": 13,
   "metadata": {},
   "outputs": [],
   "source": [
    "# import Javascript for working with browser\n",
    "# from IPython.display import Javascript\n",
    "# Javascript(\"alert();\")"
   ]
  },
  {
   "cell_type": "code",
   "execution_count": 9,
   "metadata": {
    "scrolled": true
   },
   "outputs": [
    {
     "name": "stdout",
     "output_type": "stream",
     "text": [
      "<class 'pandas.core.frame.DataFrame'>\n",
      "RangeIndex: 14646 entries, 0 to 14645\n",
      "Data columns (total 34 columns):\n",
      " #   Column     Non-Null Count  Dtype  \n",
      "---  ------     --------------  -----  \n",
      " 0   ID         14645 non-null  float64\n",
      " 1   DATE       14646 non-null  object \n",
      " 2   NEW_MONTH  14646 non-null  int64  \n",
      " 3   FROM       14646 non-null  object \n",
      " 4   TO         14646 non-null  object \n",
      " 5   ABB        14646 non-null  object \n",
      " 6   FEEDER     14646 non-null  object \n",
      " 7   LINE       14646 non-null  object \n",
      " 8   CB         14646 non-null  object \n",
      " 9   TIMEOCB    14646 non-null  int64  \n",
      " 10  GROUP      14646 non-null  object \n",
      " 11  EVENT      14646 non-null  object \n",
      " 12  OUTGDIST   14646 non-null  int64  \n",
      " 13  CUSTDIST   14646 non-null  int64  \n",
      " 14  AREA       14646 non-null  object \n",
      " 15  NIKOM      14646 non-null  object \n",
      " 16  TYPE       14646 non-null  object \n",
      " 17  NEW_CODE   14646 non-null  object \n",
      " 18  RELAY      14646 non-null  object \n",
      " 19  COMPONENT  14646 non-null  object \n",
      " 20  ROAD       14646 non-null  object \n",
      " 21  LATERAL    14646 non-null  object \n",
      " 22  TIME_EQ    14646 non-null  float64\n",
      " 23  CUST_NUM   14646 non-null  float64\n",
      " 24  CUST_MIN   14646 non-null  float64\n",
      " 25  MAJOR      14646 non-null  object \n",
      " 26  CONTROL    14646 non-null  object \n",
      " 27  WEATHER    14646 non-null  object \n",
      " 28  BK         14592 non-null  float64\n",
      " 29  BK_MIN     14646 non-null  float64\n",
      " 30  SP         14534 non-null  float64\n",
      " 31  SP_MIN     14644 non-null  float64\n",
      " 32  NB         14531 non-null  float64\n",
      " 33  NB_MIN     14644 non-null  float64\n",
      "dtypes: float64(10), int64(4), object(20)\n",
      "memory usage: 3.8+ MB\n"
     ]
    }
   ],
   "source": [
    "df.info()"
   ]
  },
  {
   "cell_type": "markdown",
   "metadata": {},
   "source": [
    "### 2.1 DATE field to datetime"
   ]
  },
  {
   "cell_type": "code",
   "execution_count": 10,
   "metadata": {},
   "outputs": [
    {
     "data": {
      "text/plain": [
       "array([], dtype=object)"
      ]
     },
     "execution_count": 10,
     "metadata": {},
     "output_type": "execute_result"
    }
   ],
   "source": [
    "regex = r'[12]\\d{3}-0[1-9]|1[0-2]-0[1-9]|[12]\\d|3[01]'\n",
    "df[~(df['DATE'].astype(str).str.contains(regex))]['DATE'].unique()"
   ]
  },
  {
   "cell_type": "code",
   "execution_count": 11,
   "metadata": {
    "scrolled": true
   },
   "outputs": [
    {
     "name": "stdout",
     "output_type": "stream",
     "text": [
      "Total records : 14646\n",
      "NaT records : 0\n",
      "Date records : 14645\n",
      "SUM records : 14645\n"
     ]
    }
   ],
   "source": [
    "df['DATE'] = pd.to_datetime(df['DATE'], errors='coerce')\n",
    "# df.info()\n",
    "print(f'Total records : {total_records}')\n",
    "print('NaT records : %d' %df[df['DATE'].isna()]['ID'].count())\n",
    "print('Date records : %d' %df[~df['DATE'].isna()]['ID'].count())\n",
    "print('SUM records : %d' %(df[df['DATE'].isna()]['ID'].count() + df[~df['DATE'].isna()]['ID'].count()))"
   ]
  },
  {
   "cell_type": "code",
   "execution_count": 12,
   "metadata": {
    "scrolled": false
   },
   "outputs": [],
   "source": [
    "# df.dtypes.value_counts()"
   ]
  },
  {
   "cell_type": "markdown",
   "metadata": {},
   "source": [
    "## 3. Check miss match data in each fields"
   ]
  },
  {
   "cell_type": "code",
   "execution_count": 13,
   "metadata": {
    "scrolled": true
   },
   "outputs": [],
   "source": [
    "# df.info()"
   ]
  },
  {
   "cell_type": "markdown",
   "metadata": {},
   "source": [
    "### 3.1 Weather"
   ]
  },
  {
   "cell_type": "code",
   "execution_count": 14,
   "metadata": {},
   "outputs": [
    {
     "name": "stdout",
     "output_type": "stream",
     "text": [
      "PASS^^ : Weahter data have already complete.\n"
     ]
    }
   ],
   "source": [
    "# df.loc[0:5, 'WEATHER'] = 'S'\n",
    "indexList = df[~df['WEATHER'].isin(['N', 'R'])].index\n",
    "if len(indexList):\n",
    "    print(df.loc[indexList, 'WEATHER'])\n",
    "    df.loc[indexList, 'WEATHER'] = 'N'\n",
    "    print(df.loc[indexList, 'WEATHER'])\n",
    "else:\n",
    "    print('PASS^^ : Weahter data have already complete.')"
   ]
  },
  {
   "cell_type": "markdown",
   "metadata": {},
   "source": [
    "### 3.2 ABB"
   ]
  },
  {
   "cell_type": "code",
   "execution_count": 15,
   "metadata": {
    "scrolled": true
   },
   "outputs": [
    {
     "name": "stdout",
     "output_type": "stream",
     "text": [
      "Pass^^ : No empty ABB records for non \"E\" GROUP\n"
     ]
    }
   ],
   "source": [
    "# Check empty ABB (ABB can empty if GROUP is 'E')\n",
    "# pd.crosstab(df['ABB'], columns='COUNT')\n",
    "if len(df[(df['ABB'] == '') & (df['GROUP'] != 'E')]) > 0:\n",
    "    print('Please check empty ABB records !!!')\n",
    "else:\n",
    "    print('Pass^^ : No empty ABB records for non \"E\" GROUP')"
   ]
  },
  {
   "cell_type": "code",
   "execution_count": 16,
   "metadata": {
    "scrolled": true
   },
   "outputs": [
    {
     "name": "stdout",
     "output_type": "stream",
     "text": [
      "Please check group \"F\" records that \"ABB\" miss match with \"FEEDER\" !!!\n",
      "      ABB   FEEDER\n",
      "4360  PEW  PWE-421\n",
      "They have already corrected^^\n",
      "      ABB   FEEDER\n",
      "4360  PWE  PWE-421\n"
     ]
    }
   ],
   "source": [
    "# %%time\n",
    "# Check ABB is not in Feeder fields\n",
    "# df[df['GROUP'].isin(['F'])][['ABB', 'FEEDER']].apply(lambda row: print('Miss match \"ABB\" : %s and \"FEEDER\" : %s' %(row['ABB'], row['FEEDER']) if row['ABB'] not in row['FEEDER'] else 'Match'), axis=1);\n",
    "missmatchAbbFeeder = pd.DataFrame()\n",
    "feederRows = df[df['GROUP'].isin(['F'])][['ABB', 'FEEDER']]\n",
    "for idx, row in feederRows.iterrows():\n",
    "    if row['ABB'] not in row['FEEDER']:\n",
    "        missmatchAbbFeeder = missmatchAbbFeeder.append(row)\n",
    "\n",
    "if len(missmatchAbbFeeder) > 0:\n",
    "    print('Please check group \"F\" records that \"ABB\" miss match with \"FEEDER\" !!!')\n",
    "    print(missmatchAbbFeeder)\n",
    "    missmatchAbbFeederIdx = missmatchAbbFeeder.index\n",
    "    for idx, row in missmatchAbbFeeder.iterrows():\n",
    "        df.loc[idx, 'ABB'] = row['FEEDER'].split('-',1)[0]\n",
    "    print('They have already corrected^^')\n",
    "    print(df.loc[missmatchAbbFeederIdx, ['ABB', 'FEEDER']])\n",
    "else:\n",
    "    print('Pass^^ : All group \"F\" records, \"ABB\" match with \"FEEDER\"')"
   ]
  },
  {
   "cell_type": "code",
   "execution_count": 17,
   "metadata": {
    "scrolled": true
   },
   "outputs": [
    {
     "name": "stdout",
     "output_type": "stream",
     "text": [
      "Pass^^ : All group \"S\" records, \"ABB\" match with \"CB\"\n",
      "Pass^^ : All group \"S\" records, \"ABB\" match with \"FEEDER\"\n"
     ]
    }
   ],
   "source": [
    "# Check ABB is not in CB fields\n",
    "missmatchAbbStaionH = pd.DataFrame() # StationH = Station and 'H' event\n",
    "missmatchAbbStationF = pd.DataFrame() # StationF = Station and 'I, O' event\n",
    "stationRows = df[df['GROUP'].isin(['S'])][['ABB', 'FEEDER', 'CB', 'EVENT']]\n",
    "for idx, row in stationRows.iterrows():\n",
    "    if row['EVENT'] == 'H':\n",
    "        if row['ABB'] not in row['CB']:\n",
    "            missmatchAbbStaionH = missmatchAbbStaionH.append(row)\n",
    "    else: # row['EVENT'] != 'H'\n",
    "        if row['ABB'] not in row['FEEDER']:\n",
    "            missmatchAbbStationF = missmatchAbbStationF.append(row)\n",
    "\n",
    "if len(missmatchAbbStaionH) > 0:\n",
    "    print('Please check group \"S\" records that \"ABB\" miss match with \"CB\" !!!')\n",
    "    print(missmatchAbbStaionH)\n",
    "else:\n",
    "    print('Pass^^ : All group \"S\" records, \"ABB\" match with \"CB\"')\n",
    "    \n",
    "if len(missmatchAbbStationF) > 0:\n",
    "    print('Please check group \"S\" records that \"ABB\" miss match with \"FEEDER\" !!!')\n",
    "    print(missmatchAbbStationF)\n",
    "    missmatchAbbStationFIdx = missmatchAbbStationF.index\n",
    "    for idx, row in missmatchAbbStationF.iterrows():\n",
    "        df.loc[idx, 'ABB'] = row['FEEDER'].split('-',1)[0]\n",
    "    print('They have already corrected^^')\n",
    "    print(df.loc[missmatchAbbStationFIdx, ['ABB', 'CB', 'EVENT', 'FEEDER']])\n",
    "else:\n",
    "    print('Pass^^ : All group \"S\" records, \"ABB\" match with \"FEEDER\"')"
   ]
  },
  {
   "cell_type": "code",
   "execution_count": 18,
   "metadata": {},
   "outputs": [],
   "source": [
    "# df.loc[12507:12509, 'ABB'] = 'WPC'"
   ]
  },
  {
   "cell_type": "code",
   "execution_count": 19,
   "metadata": {},
   "outputs": [
    {
     "name": "stdout",
     "output_type": "stream",
     "text": [
      "Pass^^ : All group \"L\" records, \"ABB\" match with \"LINE\"\n",
      "Pass^^ : All group \"L\" records, \"ABB\" match with \"FEEDER\"\n"
     ]
    }
   ],
   "source": [
    "# Check ABB is not in LINE fields\n",
    "missmatchAbbLineH = pd.DataFrame() # LineH = Line and 'H' event\n",
    "missmatchAbbLineF = pd.DataFrame() # LineH = Line and 'I, O' event\n",
    "lineRows = df[df['GROUP'].isin(['L'])][['ABB', 'FEEDER', 'LINE', 'EVENT']]\n",
    "for idx, row in lineRows.iterrows():\n",
    "    if row['EVENT'] == 'H':\n",
    "        if row['ABB'] not in row['LINE']:\n",
    "            missmatchAbbLineH = missmatchAbbLineH.append(row)\n",
    "    else: # row['EVENT'] != 'H'\n",
    "        if row['ABB'] not in row['FEEDER']:\n",
    "            missmatchAbbLineF = missmatchAbbLineF.append(row)\n",
    "\n",
    "if len(missmatchAbbLineH) > 0:\n",
    "    print('Please check group \"L\" records that \"ABB\" miss match with \"LINE\" !!!')\n",
    "    print(missmatchAbbLineH)\n",
    "else:\n",
    "    print('Pass^^ : All group \"L\" records, \"ABB\" match with \"LINE\"')\n",
    "    \n",
    "if len(missmatchAbbLineF) > 0:\n",
    "    print('Please check group \"L\" records that \"ABB\" miss match with \"FEEDER\" !!!')\n",
    "    print(missmatchAbbLineF)\n",
    "    missmatchAbbLineFIdx = missmatchAbbLineF.index\n",
    "    for idx, row in missmatchAbbLineF.iterrows():\n",
    "        df.loc[idx, 'ABB'] = row['FEEDER'].split('-',1)[0]\n",
    "    print('They have already corrected^^')\n",
    "    print(df.loc[missmatchAbbLineFIdx, ['ABB', 'EVENT', 'FEEDER', 'LINE']])\n",
    "else:\n",
    "    print('Pass^^ : All group \"L\" records, \"ABB\" match with \"FEEDER\"')"
   ]
  },
  {
   "cell_type": "markdown",
   "metadata": {},
   "source": [
    "### 3.3 FROM"
   ]
  },
  {
   "cell_type": "code",
   "execution_count": 20,
   "metadata": {},
   "outputs": [
    {
     "name": "stdout",
     "output_type": "stream",
     "text": [
      "Pass^^ : All \"FROM\" records have already correct\n"
     ]
    }
   ],
   "source": [
    "regex = r'^[0-9]|[0-1][0-9]|[2][0-3]:[0-5][0-9]$'\n",
    "missmatchFrom = df[~df['FROM'].str.contains(regex)]['FROM']\n",
    "if len(missmatchFrom) > 0:\n",
    "    print('Please check \"FROM\" miss match records !!!')\n",
    "else:\n",
    "    print('Pass^^ : All \"FROM\" records have already correct')"
   ]
  },
  {
   "cell_type": "markdown",
   "metadata": {},
   "source": [
    "### 3.4 TO"
   ]
  },
  {
   "cell_type": "code",
   "execution_count": 21,
   "metadata": {},
   "outputs": [
    {
     "name": "stdout",
     "output_type": "stream",
     "text": [
      "Pass^^ : All \"TO\" records have already correct\n"
     ]
    }
   ],
   "source": [
    "regex = r'^[0-9]|[0-1][0-9]|[2][0-3]:[0-5][0-9]$'\n",
    "missmatchTo = df[~df['TO'].str.contains(regex)]['TO']\n",
    "if len(missmatchTo) > 0:\n",
    "    print('Please check \"TO\" miss match records !!!')\n",
    "    missmatchToIdx = missmatchTo.index\n",
    "    print(missmatchTo)\n",
    "    df.loc[missmatchToIdx, 'TO'] = None\n",
    "    print('They have already corrected^^')\n",
    "    print(df.loc[missmatchToIdx, 'TO'])\n",
    "else:\n",
    "    print('Pass^^ : All \"TO\" records have already correct')"
   ]
  },
  {
   "cell_type": "markdown",
   "metadata": {},
   "source": [
    "### 3.5 NEW_CODE"
   ]
  },
  {
   "cell_type": "code",
   "execution_count": 22,
   "metadata": {},
   "outputs": [],
   "source": [
    "# con.table_names()\n",
    "# df[0:1] -> new_code = '053'\n",
    "# df.loc[0, 'NEW_CODE'] = '053'"
   ]
  },
  {
   "cell_type": "code",
   "execution_count": 23,
   "metadata": {},
   "outputs": [
    {
     "name": "stdout",
     "output_type": "stream",
     "text": [
      "Pass^^ : All \"NEW_CODE\" records have already correct\n"
     ]
    }
   ],
   "source": [
    "# r = con.execute('select * from nw_cause limit 5;').fetchall()\n",
    "# r\n",
    "sql = 'select sub_code from nw_cause'\n",
    "nw_cause_sub_code = pd.read_sql(sql, con).iloc[:, 0].values\n",
    "missmatchNew_code = df[~df['NEW_CODE'].isin(nw_cause_sub_code)]\\\n",
    "                        [['DATE', 'FEEDER', 'FROM', 'LINE', 'CB', 'GROUP', 'OUTGDIST', 'CUSTDIST', 'NEW_CODE', 'COMPONENT']]\n",
    "if len(missmatchNew_code) > 0:\n",
    "    print('Please check \"NEW_CODE\" miss match records !!!')\n",
    "    print(missmatchNew_code)\n",
    "else:\n",
    "    print('Pass^^ : All \"NEW_CODE\" records have already correct')"
   ]
  },
  {
   "cell_type": "markdown",
   "metadata": {},
   "source": [
    "### 3.6 OUTGDIST"
   ]
  },
  {
   "cell_type": "code",
   "execution_count": 24,
   "metadata": {},
   "outputs": [],
   "source": [
    "# pd.crosstab(df['OUTGDIST'], columns='COUNT')\n",
    "# df[~df['OUTGDIST'].isin(range(1,19))]['EVENT'].unique()\n",
    "# df[df['EVENT']=='S']\n",
    "# 15\n",
    "# df.loc[0, 'OUTGDIST'] = 15"
   ]
  },
  {
   "cell_type": "code",
   "execution_count": 25,
   "metadata": {},
   "outputs": [
    {
     "name": "stdout",
     "output_type": "stream",
     "text": [
      "Pass^^ : All \"OUTGDIST\" records have already correct\n"
     ]
    }
   ],
   "source": [
    "missmatchOutgdist = df[~df['OUTGDIST'].isin(range(1,19)) & df['EVENT'].isin(['I', 'O'])]\\\n",
    "                        [['DATE', 'FEEDER', 'FROM', 'LINE', 'CB', 'GROUP', 'OUTGDIST', 'CUSTDIST', 'NEW_CODE', 'COMPONENT']]\n",
    "len(missmatchOutgdist)\n",
    "if len(missmatchOutgdist) > 0:\n",
    "    print('Please check \"OUTGDIST\" miss match records !!!')\n",
    "    print(missmatchOutgdist)\n",
    "else:\n",
    "    print('Pass^^ : All \"OUTGDIST\" records have already correct')"
   ]
  },
  {
   "cell_type": "markdown",
   "metadata": {},
   "source": [
    "### 3.7 CUSTDIST"
   ]
  },
  {
   "cell_type": "code",
   "execution_count": 26,
   "metadata": {},
   "outputs": [],
   "source": [
    "# pd.crosstab(df['CUSTDIST'], columns='COUNT')\n",
    "# df[~df['CUSTDIST'].isin(range(1,19))]['EVENT'].unique()\n",
    "# df[df['EVENT']=='S']\n",
    "# 15\n",
    "# df.loc[0, 'CUSTDIST'] = 15"
   ]
  },
  {
   "cell_type": "code",
   "execution_count": 27,
   "metadata": {},
   "outputs": [
    {
     "name": "stdout",
     "output_type": "stream",
     "text": [
      "Pass^^ : All \"CUSTDIST\" records have already correct\n"
     ]
    }
   ],
   "source": [
    "missmatchCustdist = df[~df['CUSTDIST'].isin(range(1,19)) & df['EVENT'].isin(['I', 'O'])]\\\n",
    "                        [['DATE', 'FEEDER', 'FROM', 'LINE', 'CB', 'GROUP', 'OUTGDIST', 'CUSTDIST', 'NEW_CODE', 'COMPONENT']]\n",
    "len(missmatchCustdist)\n",
    "if len(missmatchCustdist) > 0:\n",
    "    print('Please check \"CUSTDIST\" miss match records !!!')\n",
    "    print(missmatchCustdist)\n",
    "else:\n",
    "    print('Pass^^ : All \"CUSTDIST\" records have already correct')"
   ]
  },
  {
   "cell_type": "markdown",
   "metadata": {},
   "source": [
    "### 3.8 COMPONENT"
   ]
  },
  {
   "cell_type": "code",
   "execution_count": 28,
   "metadata": {},
   "outputs": [],
   "source": [
    "# df.loc[0, 'COMPONENT'] = 'C22' # 'C22'"
   ]
  },
  {
   "cell_type": "code",
   "execution_count": 29,
   "metadata": {},
   "outputs": [
    {
     "name": "stdout",
     "output_type": "stream",
     "text": [
      "Pass^^ : All \"COMPONENT\" records have already correct\n"
     ]
    }
   ],
   "source": [
    "sql = 'select code from component'\n",
    "component_code = pd.read_sql(sql, con).iloc[:, 0]\n",
    "missmatchComponent = df[~((df['COMPONENT'].isin(component_code)) | (df['COMPONENT'] == ''))]\\\n",
    "                        [['DATE', 'FEEDER', 'FROM', 'LINE', 'CB', 'GROUP', 'OUTGDIST', 'CUSTDIST', 'NEW_CODE', 'COMPONENT']]\n",
    "if len(missmatchComponent) > 0:\n",
    "    print('Please check \"COMPONENT\" miss match records !!!')\n",
    "    print(missmatchComponent)\n",
    "else:\n",
    "    print('Pass^^ : All \"COMPONENT\" records have already correct')"
   ]
  },
  {
   "cell_type": "markdown",
   "metadata": {},
   "source": [
    "### 3.9 CONTROL"
   ]
  },
  {
   "cell_type": "code",
   "execution_count": 30,
   "metadata": {},
   "outputs": [
    {
     "name": "stdout",
     "output_type": "stream",
     "text": [
      "Pass^^ : All \"CONTROL\" records have already correct\n"
     ]
    }
   ],
   "source": [
    "missmatchControl = df[(df['CONTROL'] == '') | (df['CONTROL'].isna())]\\\n",
    "                        [['DATE', 'FEEDER', 'FROM', 'LINE', 'CB', 'GROUP', 'NEW_CODE', 'COMPONENT', 'CONTROL']]\n",
    "if len(missmatchControl) > 0:\n",
    "    print('Please check \"CONTROL\" miss match records !!!')\n",
    "    print(missmatchControl)\n",
    "else:\n",
    "    print('Pass^^ : All \"CONTROL\" records have already correct')"
   ]
  },
  {
   "cell_type": "markdown",
   "metadata": {},
   "source": [
    "## 4. Add CROSSDIST"
   ]
  },
  {
   "cell_type": "code",
   "execution_count": 31,
   "metadata": {},
   "outputs": [
    {
     "data": {
      "text/plain": [
       "1    12523\n",
       "0     2123\n",
       "Name: CROSSDIST, dtype: int64"
      ]
     },
     "execution_count": 31,
     "metadata": {},
     "output_type": "execute_result"
    }
   ],
   "source": [
    "# df['CROSSDIST'] = 0 if df[df['OUTGDIST'] != df['CUSTDIST']] else 1\n",
    "df['CROSSDIST'] = df.apply(lambda x: 0 if x['OUTGDIST'] != x['CUSTDIST'] else 1 , axis=1)\n",
    "df.CROSSDIST.value_counts()"
   ]
  },
  {
   "cell_type": "markdown",
   "metadata": {},
   "source": [
    "## 5. Replace all '' with NaN"
   ]
  },
  {
   "cell_type": "code",
   "execution_count": 34,
   "metadata": {},
   "outputs": [],
   "source": [
    "df.replace(r'^\\s*$', np.nan, regex=True, inplace=True)"
   ]
  },
  {
   "cell_type": "markdown",
   "metadata": {},
   "source": [
    "## 6. Export and check to MySQL"
   ]
  },
  {
   "cell_type": "code",
   "execution_count": 35,
   "metadata": {
    "scrolled": true
   },
   "outputs": [
    {
     "name": "stdout",
     "output_type": "stream",
     "text": [
      "<class 'pandas.core.frame.DataFrame'>\n",
      "RangeIndex: 14646 entries, 0 to 14645\n",
      "Data columns (total 35 columns):\n",
      " #   Column     Non-Null Count  Dtype         \n",
      "---  ------     --------------  -----         \n",
      " 0   ID         14645 non-null  float64       \n",
      " 1   DATE       14646 non-null  datetime64[ns]\n",
      " 2   NEW_MONTH  14646 non-null  int64         \n",
      " 3   FROM       14646 non-null  object        \n",
      " 4   TO         14646 non-null  object        \n",
      " 5   ABB        14646 non-null  object        \n",
      " 6   FEEDER     14646 non-null  object        \n",
      " 7   LINE       2927 non-null   object        \n",
      " 8   CB         2943 non-null   object        \n",
      " 9   TIMEOCB    14646 non-null  int64         \n",
      " 10  GROUP      14646 non-null  object        \n",
      " 11  EVENT      14646 non-null  object        \n",
      " 12  OUTGDIST   14646 non-null  int64         \n",
      " 13  CUSTDIST   14646 non-null  int64         \n",
      " 14  AREA       14646 non-null  object        \n",
      " 15  NIKOM      14646 non-null  object        \n",
      " 16  TYPE       14646 non-null  object        \n",
      " 17  NEW_CODE   14646 non-null  object        \n",
      " 18  RELAY      13767 non-null  object        \n",
      " 19  COMPONENT  7609 non-null   object        \n",
      " 20  ROAD       853 non-null    object        \n",
      " 21  LATERAL    7355 non-null   object        \n",
      " 22  TIME_EQ    14646 non-null  float64       \n",
      " 23  CUST_NUM   14646 non-null  float64       \n",
      " 24  CUST_MIN   14646 non-null  float64       \n",
      " 25  MAJOR      0 non-null      float64       \n",
      " 26  CONTROL    14646 non-null  object        \n",
      " 27  WEATHER    14646 non-null  object        \n",
      " 28  BK         14592 non-null  float64       \n",
      " 29  BK_MIN     14646 non-null  float64       \n",
      " 30  SP         14534 non-null  float64       \n",
      " 31  SP_MIN     14644 non-null  float64       \n",
      " 32  NB         14531 non-null  float64       \n",
      " 33  NB_MIN     14644 non-null  float64       \n",
      " 34  CROSSDIST  14646 non-null  int64         \n",
      "dtypes: datetime64[ns](1), float64(11), int64(5), object(18)\n",
      "memory usage: 3.9+ MB\n"
     ]
    }
   ],
   "source": [
    "df.info()"
   ]
  },
  {
   "cell_type": "code",
   "execution_count": 36,
   "metadata": {
    "scrolled": true
   },
   "outputs": [
    {
     "data": {
      "text/plain": [
       "Index(['id', 'date', 'new_month', 'time_from', 'time_to', 'abb', 'feeder',\n",
       "       'line', 'cb', 'timeocb', 'group_type', 'event', 'outgdist', 'custdist',\n",
       "       'area', 'nikom', 'type', 'new_code', 'relay', 'component', 'road',\n",
       "       'lateral', 'time_eq', 'cust_num', 'cust_min', 'major', 'control',\n",
       "       'weather', 'bk', 'bk_min', 'sp', 'sp_min', 'nb', 'nb_min', 'CrossDist'],\n",
       "      dtype='object')"
      ]
     },
     "execution_count": 36,
     "metadata": {},
     "output_type": "execute_result"
    }
   ],
   "source": [
    "# Replace field names\n",
    "df.columns = pd.read_sql('select * from indices_db_15days limit 1', con).columns[1:]\n",
    "df.columns"
   ]
  },
  {
   "cell_type": "code",
   "execution_count": 37,
   "metadata": {},
   "outputs": [],
   "source": [
    "# seperate df for indices_db and indiecs_db_15days\n",
    "df_indices_db = df[['id', 'date', 'new_month', 'time_from', 'time_to', 'abb', 'feeder',\n",
    "       'line', 'cb', 'timeocb', 'group_type', 'event', 'outgdist', 'custdist',\n",
    "       'area', 'nikom', 'type', 'new_code', 'relay', 'component', 'road',\n",
    "       'lateral', 'time_eq', 'cust_num', 'cust_min', 'major', 'control', 'CrossDist']]\n",
    "# df_indices_db.head()\n",
    "# df_indices_db_15days = df"
   ]
  },
  {
   "cell_type": "code",
   "execution_count": 38,
   "metadata": {},
   "outputs": [],
   "source": [
    "def insertToDB(month, tableName):\n",
    "    try:\n",
    "        print()\n",
    "        print(f'Insert data to \"{tableName}\" table')\n",
    "        if tableName == 'indices_db':\n",
    "            df_indices_db[df_indices_db['date'].dt.month == month].to_sql(tableName, con, if_exists='append', index=False)\n",
    "        else:\n",
    "            df[df['date'].dt.month == month].to_sql(tableName, con, if_exists='append', index=False)\n",
    "        print('Success^^')\n",
    "    except:\n",
    "        print(\"May be data error then they can't be imported to MySQL !!!\")\n",
    "        raise"
   ]
  },
  {
   "cell_type": "code",
   "execution_count": 105,
   "metadata": {},
   "outputs": [],
   "source": [
    "def checkNumberRecords(month, tableName):\n",
    "    rawDataRecords = df[(df['date'].dt.year == int(yearSelected)) & (df['date'].dt.month == month)]['date'].count()\n",
    "    print(f'Raw {yearSelected}/{month} data records : {rawDataRecords}')\n",
    "    sql = f'select count(*) from {tableName} where year(date)={yearSelected} and month(date)={month}'\n",
    "    dbDataRecords = con.execute(sql).fetchall()[0][0]\n",
    "    print()\n",
    "    print('Check number of records')\n",
    "    print(f'{tableName} table {yearSelected}/{month} data records : {dbDataRecords}')\n",
    "    if rawDataRecords == dbDataRecords:\n",
    "        print(f'Successfully append to {tableName} ^^')\n",
    "    else:\n",
    "        print()\n",
    "        print(f'Unsuccessfullt append to {tableName}, please resolve errors !!!')\n",
    "        sqlDel = f'delete from {tableName} where year(date)={yearSelected} and month(date)={month}'\n",
    "        con.execute(sqlDel)\n",
    "        print(f'Delete false imported data of {tableName} table {yearSelected}/{month} already !')"
   ]
  },
  {
   "cell_type": "code",
   "execution_count": 108,
   "metadata": {},
   "outputs": [
    {
     "name": "stdout",
     "output_type": "stream",
     "text": [
      "Please type 1 or 2 for selecting table to dump\n",
      "\t1 to indices_db\n",
      "\t2 to indices_db_15days\n",
      "Select table here : 1\n",
      "\n",
      "Please select month between 1 to 12\n",
      "Insert month here : 9\n",
      "\n",
      "Insert data to \"indices_db\" table\n",
      "Success^^\n",
      "Raw 2020/9 data records : 1512\n",
      "\n",
      "Check number of records\n",
      "indices_db table 2020/9 data records : 1512\n",
      "Successfully append to indices_db ^^\n"
     ]
    }
   ],
   "source": [
    "tableNames = {1: 'indices_db', 2: 'indices_db_15days'}\n",
    "selectTable = int(input(\n",
    "'''Please type 1 or 2 for selecting table to dump\n",
    "\\t1 to indices_db\n",
    "\\t2 to indices_db_15days\n",
    "Select table here : ''') or '0')\n",
    "print()\n",
    "if selectTable > 0 and selectTable < 3:\n",
    "    selectMonth = int(input('Please select month between 1 to 12\\nInsert month here : ') or '0')\n",
    "    if selectMonth > 0 and selectMonth < 13:\n",
    "        insertToDB(selectMonth, tableNames[selectTable])\n",
    "        checkNumberRecords(selectMonth, tableNames[selectTable])\n",
    "        selectTable = None\n",
    "        selectMonth = None\n",
    "    else:\n",
    "        print('Please run this cell again then select month between 1 or 12 !!!')\n",
    "else:\n",
    "    print('Please run this cell again then select only 1 or 2 !!!')"
   ]
  },
  {
   "cell_type": "markdown",
   "metadata": {},
   "source": [
    "## Addition"
   ]
  },
  {
   "cell_type": "markdown",
   "metadata": {},
   "source": [
    "### Check lasted date data in outage_event_db or outage_event_db_15days"
   ]
  },
  {
   "cell_type": "code",
   "execution_count": 107,
   "metadata": {},
   "outputs": [
    {
     "name": "stdout",
     "output_type": "stream",
     "text": [
      "Please type 1 or 2 for selecting table to dump\n",
      "\t1 to indices_db\n",
      "\t2 to indices_db_15days\n",
      "Select table here : 1\n",
      "\n",
      "Lasted date of indices_db table (y-m-d) : 2020-08-31\n"
     ]
    }
   ],
   "source": [
    "tableNames = {1: 'indices_db', 2: 'indices_db_15days'}\n",
    "selectTable = int(input(\n",
    "'''Please type 1 or 2 for selecting table to dump\n",
    "\\t1 to indices_db\n",
    "\\t2 to indices_db_15days\n",
    "Select table here : ''') or '0')\n",
    "print()\n",
    "if selectTable > 0 and selectTable < 3:\n",
    "    sql = f'select date from {tableNames[selectTable]} order by date desc limit 1'\n",
    "    print(f'Lasted date of {tableNames[selectTable]} table (y-m-d) : {con.execute(sql).fetchall()[0][0]}')\n",
    "else:\n",
    "    print('Please run this cell again then select only 1 or 2 !!!')"
   ]
  },
  {
   "cell_type": "code",
   "execution_count": null,
   "metadata": {},
   "outputs": [],
   "source": []
  }
 ],
 "metadata": {
  "kernelspec": {
   "display_name": "Python 3",
   "language": "python",
   "name": "python3"
  },
  "language_info": {
   "codemirror_mode": {
    "name": "ipython",
    "version": 3
   },
   "file_extension": ".py",
   "mimetype": "text/x-python",
   "name": "python",
   "nbconvert_exporter": "python",
   "pygments_lexer": "ipython3",
   "version": "3.7.6"
  },
  "toc": {
   "base_numbering": 1,
   "nav_menu": {},
   "number_sections": true,
   "sideBar": true,
   "skip_h1_title": false,
   "title_cell": "Table of Contents",
   "title_sidebar": "Contents",
   "toc_cell": false,
   "toc_position": {},
   "toc_section_display": true,
   "toc_window_display": true
  }
 },
 "nbformat": 4,
 "nbformat_minor": 4
}

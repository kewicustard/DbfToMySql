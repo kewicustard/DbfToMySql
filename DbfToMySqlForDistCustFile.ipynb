{
 "cells": [
  {
   "cell_type": "markdown",
   "metadata": {},
   "source": [
    "# DBF file to MySQL for Distcust File"
   ]
  },
  {
   "cell_type": "markdown",
   "metadata": {},
   "source": [
    "## 1. Load DBF to Pandas DataFrame"
   ]
  },
  {
   "cell_type": "code",
   "execution_count": 45,
   "metadata": {},
   "outputs": [
    {
     "name": "stdout",
     "output_type": "stream",
     "text": [
      "pandas version: 1.0.1\n"
     ]
    }
   ],
   "source": [
    "from datetime import datetime\n",
    "import pandas as pd\n",
    "import numpy as np\n",
    "print(f'pandas version: {pd.__version__}')\n",
    "\n",
    "pd.set_option('max_columns', 500)\n",
    "# pd.set_option('max_rows', 10)"
   ]
  },
  {
   "cell_type": "code",
   "execution_count": 46,
   "metadata": {},
   "outputs": [],
   "source": [
    "\"\"\"\n",
    "Load content of a DBF file into a Pandas data frame.\n",
    "\n",
    "The iter() is required because Pandas doesn't detect that the DBF\n",
    "object is iterable.\n",
    "\"\"\"\n",
    "\n",
    "from dbfread import DBF"
   ]
  },
  {
   "cell_type": "code",
   "execution_count": 47,
   "metadata": {
    "scrolled": true
   },
   "outputs": [
    {
     "name": "stdout",
     "output_type": "stream",
     "text": [
      "Please enter path for year file (default as G:/relia/custbase/common/): \n",
      "Path : G:/relia/custbase/common/\n",
      "\n",
      "Full path : G:/relia/custbase/common/distcust.dbf\n"
     ]
    }
   ],
   "source": [
    "setPath = input('Please enter path for year file (default as G:/relia/custbase/common/): ') or 'G:/relia/custbase/common/'\n",
    "# yearSelected = input('Please insert year (default as this year) : ') or str(datetime.now().year)\n",
    "print(f'Path : {setPath}')\n",
    "# print(f'Year : {yearSelected}')\n",
    "fullPath = setPath + 'distcust.dbf'\n",
    "print(f'\\nFull path : {fullPath}')"
   ]
  },
  {
   "cell_type": "code",
   "execution_count": 48,
   "metadata": {},
   "outputs": [],
   "source": [
    "dbf = DBF(fullPath)\n",
    "df = pd.DataFrame(iter(dbf))"
   ]
  },
  {
   "cell_type": "code",
   "execution_count": 49,
   "metadata": {
    "scrolled": true
   },
   "outputs": [
    {
     "data": {
      "text/html": [
       "<div>\n",
       "<style scoped>\n",
       "    .dataframe tbody tr th:only-of-type {\n",
       "        vertical-align: middle;\n",
       "    }\n",
       "\n",
       "    .dataframe tbody tr th {\n",
       "        vertical-align: top;\n",
       "    }\n",
       "\n",
       "    .dataframe thead th {\n",
       "        text-align: right;\n",
       "    }\n",
       "</style>\n",
       "<table border=\"1\" class=\"dataframe\">\n",
       "  <thead>\n",
       "    <tr style=\"text-align: right;\">\n",
       "      <th></th>\n",
       "      <th>MONTH</th>\n",
       "      <th>YEAR</th>\n",
       "      <th>DISTRICT</th>\n",
       "      <th>NOCUS</th>\n",
       "      <th>D</th>\n",
       "      <th>REMARK</th>\n",
       "      <th>_NullFlags</th>\n",
       "    </tr>\n",
       "  </thead>\n",
       "  <tbody>\n",
       "    <tr>\n",
       "      <th>3181</th>\n",
       "      <td>9</td>\n",
       "      <td>2020</td>\n",
       "      <td>15</td>\n",
       "      <td>234473</td>\n",
       "      <td>NaN</td>\n",
       "      <td></td>\n",
       "      <td>b'\\x00'</td>\n",
       "    </tr>\n",
       "    <tr>\n",
       "      <th>3182</th>\n",
       "      <td>9</td>\n",
       "      <td>2020</td>\n",
       "      <td>16</td>\n",
       "      <td>163969</td>\n",
       "      <td>NaN</td>\n",
       "      <td></td>\n",
       "      <td>b'\\x00'</td>\n",
       "    </tr>\n",
       "    <tr>\n",
       "      <th>3183</th>\n",
       "      <td>9</td>\n",
       "      <td>2020</td>\n",
       "      <td>17</td>\n",
       "      <td>188738</td>\n",
       "      <td>NaN</td>\n",
       "      <td></td>\n",
       "      <td>b'\\x00'</td>\n",
       "    </tr>\n",
       "    <tr>\n",
       "      <th>3184</th>\n",
       "      <td>9</td>\n",
       "      <td>2020</td>\n",
       "      <td>18</td>\n",
       "      <td>246696</td>\n",
       "      <td>NaN</td>\n",
       "      <td></td>\n",
       "      <td>b'\\x00'</td>\n",
       "    </tr>\n",
       "    <tr>\n",
       "      <th>3185</th>\n",
       "      <td>9</td>\n",
       "      <td>2020</td>\n",
       "      <td>99</td>\n",
       "      <td>4017746</td>\n",
       "      <td>NaN</td>\n",
       "      <td></td>\n",
       "      <td>b'\\x00'</td>\n",
       "    </tr>\n",
       "  </tbody>\n",
       "</table>\n",
       "</div>"
      ],
      "text/plain": [
       "      MONTH  YEAR  DISTRICT    NOCUS   D REMARK _NullFlags\n",
       "3181      9  2020        15   234473 NaN           b'\\x00'\n",
       "3182      9  2020        16   163969 NaN           b'\\x00'\n",
       "3183      9  2020        17   188738 NaN           b'\\x00'\n",
       "3184      9  2020        18   246696 NaN           b'\\x00'\n",
       "3185      9  2020        99  4017746 NaN           b'\\x00'"
      ]
     },
     "execution_count": 49,
     "metadata": {},
     "output_type": "execute_result"
    }
   ],
   "source": [
    "total_records = df.shape[0]\n",
    "df.tail()"
   ]
  },
  {
   "cell_type": "markdown",
   "metadata": {},
   "source": [
    "## - Import module for connecting to MySQL"
   ]
  },
  {
   "cell_type": "code",
   "execution_count": 50,
   "metadata": {},
   "outputs": [],
   "source": [
    "from sqlalchemy import create_engine # conda install sqlalchemy\n",
    "import pymysql # conda install pymysql"
   ]
  },
  {
   "cell_type": "code",
   "execution_count": 51,
   "metadata": {
    "scrolled": true
   },
   "outputs": [
    {
     "name": "stdout",
     "output_type": "stream",
     "text": [
      "pymysql version: 0.10.1\n"
     ]
    }
   ],
   "source": [
    "print(f'pymysql version: {pymysql.__version__}')"
   ]
  },
  {
   "cell_type": "markdown",
   "metadata": {},
   "source": [
    "### - create a connection to MySQL"
   ]
  },
  {
   "cell_type": "code",
   "execution_count": 52,
   "metadata": {},
   "outputs": [
    {
     "name": "stdout",
     "output_type": "stream",
     "text": [
      "connection string = mysql+pymysql://root:@localhost:3306/statistics_database\n"
     ]
    }
   ],
   "source": [
    "# uid = 'reliability'\n",
    "# pwd = 'pcd_db'\n",
    "# host = '10.99.1.36'\n",
    "# uid = 'root'\n",
    "# pwd = 'admin'\n",
    "# host = 'localhost'\n",
    "uid = 'root'\n",
    "pwd = ''\n",
    "host = 'localhost'\n",
    "port = 3306\n",
    "db = 'statistics_database'\n",
    "con_string = f'mysql+pymysql://{uid}:{pwd}@{host}:{port}/{db}'\n",
    "print(f'connection string = {con_string}')\n",
    "con = create_engine(con_string)"
   ]
  },
  {
   "cell_type": "code",
   "execution_count": 53,
   "metadata": {},
   "outputs": [],
   "source": [
    "# con.table_names()"
   ]
  },
  {
   "cell_type": "markdown",
   "metadata": {},
   "source": [
    "## 2. Cleand data in distcust table"
   ]
  },
  {
   "cell_type": "code",
   "execution_count": 54,
   "metadata": {},
   "outputs": [],
   "source": [
    "# import Javascript for working with browser\n",
    "# from IPython.display import Javascript\n",
    "# Javascript(\"alert();\")"
   ]
  },
  {
   "cell_type": "code",
   "execution_count": 55,
   "metadata": {
    "scrolled": false
   },
   "outputs": [
    {
     "name": "stdout",
     "output_type": "stream",
     "text": [
      "<class 'pandas.core.frame.DataFrame'>\n",
      "RangeIndex: 3186 entries, 0 to 3185\n",
      "Data columns (total 7 columns):\n",
      " #   Column      Non-Null Count  Dtype  \n",
      "---  ------      --------------  -----  \n",
      " 0   MONTH       3186 non-null   int64  \n",
      " 1   YEAR        3186 non-null   int64  \n",
      " 2   DISTRICT    3186 non-null   int64  \n",
      " 3   NOCUS       3186 non-null   int64  \n",
      " 4   D           732 non-null    float64\n",
      " 5   REMARK      3186 non-null   object \n",
      " 6   _NullFlags  3186 non-null   object \n",
      "dtypes: float64(1), int64(4), object(2)\n",
      "memory usage: 174.4+ KB\n"
     ]
    }
   ],
   "source": [
    "df.info()"
   ]
  },
  {
   "cell_type": "markdown",
   "metadata": {},
   "source": [
    "### 2.1 Remove _NullFlags column"
   ]
  },
  {
   "cell_type": "code",
   "execution_count": 56,
   "metadata": {},
   "outputs": [
    {
     "name": "stdout",
     "output_type": "stream",
     "text": [
      "<class 'pandas.core.frame.DataFrame'>\n",
      "RangeIndex: 3186 entries, 0 to 3185\n",
      "Data columns (total 6 columns):\n",
      " #   Column    Non-Null Count  Dtype  \n",
      "---  ------    --------------  -----  \n",
      " 0   MONTH     3186 non-null   int64  \n",
      " 1   YEAR      3186 non-null   int64  \n",
      " 2   DISTRICT  3186 non-null   int64  \n",
      " 3   NOCUS     3186 non-null   int64  \n",
      " 4   D         732 non-null    float64\n",
      " 5   REMARK    3186 non-null   object \n",
      "dtypes: float64(1), int64(4), object(1)\n",
      "memory usage: 149.5+ KB\n"
     ]
    }
   ],
   "source": [
    "df.drop('_NullFlags', axis=1, inplace=True)\n",
    "df.info()"
   ]
  },
  {
   "cell_type": "markdown",
   "metadata": {},
   "source": [
    "### 2.1 Remove year <= 2006, 20060 and 1008"
   ]
  },
  {
   "cell_type": "code",
   "execution_count": 57,
   "metadata": {},
   "outputs": [],
   "source": [
    "df = df[~((df['YEAR'] <= 2006) | (df['YEAR'] == 20060) | (df['YEAR'] == 1008))]"
   ]
  },
  {
   "cell_type": "markdown",
   "metadata": {},
   "source": [
    "### 2.2 Replace all '' with NaN"
   ]
  },
  {
   "cell_type": "code",
   "execution_count": 58,
   "metadata": {
    "scrolled": true
   },
   "outputs": [],
   "source": [
    "df.replace(r'^\\s*$', np.nan, regex=True, inplace=True)"
   ]
  },
  {
   "cell_type": "code",
   "execution_count": 59,
   "metadata": {},
   "outputs": [],
   "source": [
    "# df.tail()"
   ]
  },
  {
   "cell_type": "markdown",
   "metadata": {},
   "source": [
    "## 4. Export and check to MySQL"
   ]
  },
  {
   "cell_type": "code",
   "execution_count": 60,
   "metadata": {
    "scrolled": true
   },
   "outputs": [
    {
     "name": "stdout",
     "output_type": "stream",
     "text": [
      "<class 'pandas.core.frame.DataFrame'>\n",
      "Int64Index: 3154 entries, 31 to 3185\n",
      "Data columns (total 6 columns):\n",
      " #   Column    Non-Null Count  Dtype  \n",
      "---  ------    --------------  -----  \n",
      " 0   MONTH     3154 non-null   int64  \n",
      " 1   YEAR      3154 non-null   int64  \n",
      " 2   DISTRICT  3154 non-null   int64  \n",
      " 3   NOCUS     3154 non-null   int64  \n",
      " 4   D         700 non-null    float64\n",
      " 5   REMARK    38 non-null     object \n",
      "dtypes: float64(1), int64(4), object(1)\n",
      "memory usage: 172.5+ KB\n"
     ]
    }
   ],
   "source": [
    "df.info()"
   ]
  },
  {
   "cell_type": "code",
   "execution_count": 61,
   "metadata": {
    "scrolled": true
   },
   "outputs": [
    {
     "data": {
      "text/plain": [
       "Index(['month', 'year', 'district', 'nocus', 'd', 'remark'], dtype='object')"
      ]
     },
     "execution_count": 61,
     "metadata": {},
     "output_type": "execute_result"
    }
   ],
   "source": [
    "# Replace field names\n",
    "df.columns = pd.read_sql('select * from discust limit 1', con).columns[1:]\n",
    "df.columns"
   ]
  },
  {
   "cell_type": "code",
   "execution_count": 62,
   "metadata": {},
   "outputs": [],
   "source": [
    "def insertToDB(year, month, tableName):\n",
    "    try:\n",
    "        print()\n",
    "        print(f'Insert data to \"{tableName}\" table for {year}/{month}')\n",
    "        df[(df['year'] == year) & (df['month'] == month)].to_sql(tableName, con, if_exists='append', index=False)\n",
    "        print('Success^^')\n",
    "    except:\n",
    "        print(\"May be data error then they can't be imported to MySQL !!!\")\n",
    "        raise"
   ]
  },
  {
   "cell_type": "code",
   "execution_count": 63,
   "metadata": {},
   "outputs": [],
   "source": [
    "def checkNumberRecords(year, month, tableName):\n",
    "    rawDataRecords = df[(df['year'] == year) & (df['month'] == month)]['district'].count()\n",
    "    print(f'Raw {year}/{month} data records : {rawDataRecords}')\n",
    "    sql = f'select count(*) from {tableName} where year={year} and month={month}'\n",
    "    dbDataRecords = con.execute(sql).fetchall()[0][0]\n",
    "    print()\n",
    "    print('Check number of records')\n",
    "    print(f'{tableName} table {year}/{month} data records : {dbDataRecords}')\n",
    "    if rawDataRecords == dbDataRecords:\n",
    "        print(f'Successfully append to {tableName} ^^')\n",
    "    else:\n",
    "        print(f'Unsuccessfullt append to {tableName}, please resolve errors !!!')"
   ]
  },
  {
   "cell_type": "code",
   "execution_count": 69,
   "metadata": {},
   "outputs": [
    {
     "name": "stdout",
     "output_type": "stream",
     "text": [
      "Please insert year (default as 2020) : \n",
      "\n",
      "Please select month between 1 to 9\n",
      "Select table here : 9\n",
      "\n",
      "Insert data to \"discust\" table for 2020/9\n",
      "Success^^\n",
      "Raw 2020/9 data records : 19\n",
      "\n",
      "Check number of records\n",
      "discust table 2020/9 data records : 19\n",
      "Successfully append to discust ^^\n"
     ]
    }
   ],
   "source": [
    "currentYear = datetime.now().year\n",
    "selectYear = int(input(f'Please insert year (default as {currentYear}) : ') or currentYear)\n",
    "lastestYear = int(df[-1:]['year'].values[0])\n",
    "oldestYear = int(df[:1]['year'].values[0])\n",
    "lastestMonthInYear = int(df[-1:]['month'].values[0])\n",
    "print()\n",
    "if (selectYear >= oldestYear) and (selectYear <= lastestYear):\n",
    "    selectMonthText = lastestMonthInYear if selectYear == lastestYear else 12\n",
    "    selectMonth = int(input(f'Please select month between 1 to {selectMonthText}\\nSelect table here : ') or '0')\n",
    "    if selectMonth > 0 and selectMonth <= selectMonthText:\n",
    "        insertToDB(selectYear, selectMonth, 'discust')\n",
    "        checkNumberRecords(selectYear, selectMonth, 'discust')\n",
    "        selectYear = None\n",
    "        selectMonth = None\n",
    "    else:\n",
    "        print(f'Please run this cell again then select month between 1 and {selectMonthText} for year {selectYear} !!!')\n",
    "else:\n",
    "    print(f'Please run this cell again then select year between {oldestYear} and {lastestYear}')"
   ]
  },
  {
   "cell_type": "markdown",
   "metadata": {},
   "source": [
    "## Addition"
   ]
  },
  {
   "cell_type": "markdown",
   "metadata": {},
   "source": [
    "### Check lastest year/month data in discust table"
   ]
  },
  {
   "cell_type": "code",
   "execution_count": 64,
   "metadata": {},
   "outputs": [
    {
     "name": "stdout",
     "output_type": "stream",
     "text": [
      "Lastest data of distcust table (year/month) : 2020/4\n"
     ]
    }
   ],
   "source": [
    "sql = f'select year, month from discust where year >= 2007 and year != 20060 order by year desc, month desc limit 1'\n",
    "print(f'Lastest data of distcust table (year/month) : {con.execute(sql).fetchall()[0][0]}/{con.execute(sql).fetchall()[0][1]}')"
   ]
  },
  {
   "cell_type": "code",
   "execution_count": null,
   "metadata": {},
   "outputs": [],
   "source": []
  }
 ],
 "metadata": {
  "kernelspec": {
   "display_name": "Python 3",
   "language": "python",
   "name": "python3"
  },
  "language_info": {
   "codemirror_mode": {
    "name": "ipython",
    "version": 3
   },
   "file_extension": ".py",
   "mimetype": "text/x-python",
   "name": "python",
   "nbconvert_exporter": "python",
   "pygments_lexer": "ipython3",
   "version": "3.7.6"
  },
  "toc": {
   "base_numbering": 1,
   "nav_menu": {
    "height": "205px",
    "width": "324.318px"
   },
   "number_sections": true,
   "sideBar": true,
   "skip_h1_title": false,
   "title_cell": "Table of Contents",
   "title_sidebar": "Contents",
   "toc_cell": false,
   "toc_position": {},
   "toc_section_display": true,
   "toc_window_display": true
  }
 },
 "nbformat": 4,
 "nbformat_minor": 4
}
